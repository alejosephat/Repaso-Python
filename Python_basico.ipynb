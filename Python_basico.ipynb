{
  "nbformat": 4,
  "nbformat_minor": 0,
  "metadata": {
    "colab": {
      "provenance": []
    },
    "kernelspec": {
      "name": "python3",
      "display_name": "Python 3"
    },
    "language_info": {
      "name": "python"
    }
  },
  "cells": [
    {
      "cell_type": "markdown",
      "source": [
        "#Estructura de datos Python\n"
      ],
      "metadata": {
        "id": "RfXK0jLf0_Mo"
      }
    },
    {
      "cell_type": "markdown",
      "source": [
        "##strings"
      ],
      "metadata": {
        "id": "z-ni4PYf1HuL"
      }
    },
    {
      "cell_type": "code",
      "source": [
        "micadena = \"hola mundo\"\n",
        "print(micadena[::])"
      ],
      "metadata": {
        "colab": {
          "base_uri": "https://localhost:8080/"
        },
        "id": "HTJuuuNmBpla",
        "outputId": "277e56f5-fa1c-41d8-a9fd-5c16d7d80cfc"
      },
      "execution_count": null,
      "outputs": [
        {
          "output_type": "stream",
          "name": "stdout",
          "text": [
            "hola mundo\n"
          ]
        }
      ]
    },
    {
      "cell_type": "markdown",
      "source": [
        "###Inmutabilidad de los strings"
      ],
      "metadata": {
        "id": "R1a_EFxhCNNP"
      }
    },
    {
      "cell_type": "code",
      "source": [
        "name = \"Pam\"\n",
        "name[0] = \"S\""
      ],
      "metadata": {
        "colab": {
          "base_uri": "https://localhost:8080/",
          "height": 159
        },
        "id": "ec7XhjmzBzQn",
        "outputId": "685e1dbd-b1b7-41b0-b73d-e99f23d8cefa"
      },
      "execution_count": null,
      "outputs": [
        {
          "output_type": "error",
          "ename": "TypeError",
          "evalue": "'str' object does not support item assignment",
          "traceback": [
            "\u001b[0;31m---------------------------------------------------------------------------\u001b[0m",
            "\u001b[0;31mTypeError\u001b[0m                                 Traceback (most recent call last)",
            "\u001b[0;32m<ipython-input-77-68500902e7a5>\u001b[0m in \u001b[0;36m<cell line: 2>\u001b[0;34m()\u001b[0m\n\u001b[1;32m      1\u001b[0m \u001b[0mname\u001b[0m \u001b[0;34m=\u001b[0m \u001b[0;34m\"Pam\"\u001b[0m\u001b[0;34m\u001b[0m\u001b[0;34m\u001b[0m\u001b[0m\n\u001b[0;32m----> 2\u001b[0;31m \u001b[0mname\u001b[0m\u001b[0;34m[\u001b[0m\u001b[0;36m0\u001b[0m\u001b[0;34m]\u001b[0m \u001b[0;34m=\u001b[0m \u001b[0;34m\"S\"\u001b[0m\u001b[0;34m\u001b[0m\u001b[0;34m\u001b[0m\u001b[0m\n\u001b[0m",
            "\u001b[0;31mTypeError\u001b[0m: 'str' object does not support item assignment"
          ]
        }
      ]
    },
    {
      "cell_type": "code",
      "source": [
        "name2 = name[1:]\n",
        "print(name + \"A\")\n",
        "name[0:]\n",
        "\n"
      ],
      "metadata": {
        "colab": {
          "base_uri": "https://localhost:8080/",
          "height": 53
        },
        "id": "zrOUyBC8CTAh",
        "outputId": "cf1e19fe-b3e4-4bbf-87ec-a8edbd1f3cd8"
      },
      "execution_count": null,
      "outputs": [
        {
          "output_type": "stream",
          "name": "stdout",
          "text": [
            "PamA\n"
          ]
        },
        {
          "output_type": "execute_result",
          "data": {
            "text/plain": [
              "'Pam'"
            ],
            "application/vnd.google.colaboratory.intrinsic+json": {
              "type": "string"
            }
          },
          "metadata": {},
          "execution_count": 82
        }
      ]
    },
    {
      "cell_type": "code",
      "source": [
        "print(name)\n",
        "\n",
        "\n"
      ],
      "metadata": {
        "colab": {
          "base_uri": "https://localhost:8080/"
        },
        "id": "PxkpBphJC-a7",
        "outputId": "fcdc46c2-cdb3-4388-ee10-b61c0bde35c4"
      },
      "execution_count": null,
      "outputs": [
        {
          "output_type": "stream",
          "name": "stdout",
          "text": [
            "am\n"
          ]
        }
      ]
    },
    {
      "cell_type": "code",
      "source": [
        "print(name*10)\n",
        "\n",
        "name = name.upper"
      ],
      "metadata": {
        "colab": {
          "base_uri": "https://localhost:8080/"
        },
        "id": "ayPUIdtUDfyM",
        "outputId": "4cdbd066-0fc1-4073-a034-c6e650d3e9a6"
      },
      "execution_count": null,
      "outputs": [
        {
          "output_type": "stream",
          "name": "stdout",
          "text": [
            "amamamamamamamamamam\n"
          ]
        }
      ]
    },
    {
      "cell_type": "code",
      "source": [
        "name = name.upper()\n",
        "print(name)"
      ],
      "metadata": {
        "colab": {
          "base_uri": "https://localhost:8080/"
        },
        "id": "Opey6hw2D96I",
        "outputId": "da4a75e1-153f-47fb-84ac-277e7e2230da"
      },
      "execution_count": null,
      "outputs": [
        {
          "output_type": "stream",
          "name": "stdout",
          "text": [
            "AM\n"
          ]
        }
      ]
    },
    {
      "cell_type": "code",
      "source": [
        "x = \"hola mundo\"\n",
        "x = x.split(\"o\")\n",
        "print(x)"
      ],
      "metadata": {
        "colab": {
          "base_uri": "https://localhost:8080/"
        },
        "id": "MAug6ZlXElCm",
        "outputId": "0a6b7881-c3a2-4078-9dde-7f8b2c8963c1"
      },
      "execution_count": null,
      "outputs": [
        {
          "output_type": "stream",
          "name": "stdout",
          "text": [
            "['h', 'la mund', '']\n"
          ]
        }
      ]
    },
    {
      "cell_type": "markdown",
      "source": [
        "###Formatos de impresion\n",
        "####1funcion format"
      ],
      "metadata": {
        "id": "dgd_804wFEzM"
      }
    },
    {
      "cell_type": "code",
      "source": [
        "print(\"esta {} una {} de {}\".format(\"TEXTO\", \"cadena\", \"hola\"))"
      ],
      "metadata": {
        "colab": {
          "base_uri": "https://localhost:8080/"
        },
        "id": "6lyB9qqrEvjW",
        "outputId": "e136c09f-197d-4a68-83af-6a5595fa53c1"
      },
      "execution_count": null,
      "outputs": [
        {
          "output_type": "stream",
          "name": "stdout",
          "text": [
            "esta TEXTO una cadena de hola\n"
          ]
        }
      ]
    },
    {
      "cell_type": "code",
      "source": [
        "resultados = 100/888\n",
        "print(\"Los resultados son {r:1.3f} \".format(r=resultados))"
      ],
      "metadata": {
        "colab": {
          "base_uri": "https://localhost:8080/"
        },
        "id": "1oBybxBNF4qB",
        "outputId": "1daabbc0-ff9c-4770-c663-65e3d0e1c556"
      },
      "execution_count": null,
      "outputs": [
        {
          "output_type": "stream",
          "name": "stdout",
          "text": [
            "Los resultados son 0.113 \n"
          ]
        }
      ]
    },
    {
      "cell_type": "markdown",
      "source": [
        "####F String"
      ],
      "metadata": {
        "id": "KX6NG5GaGg0k"
      }
    },
    {
      "cell_type": "code",
      "source": [
        "nombre= \"Alejandro\"\n",
        "edad= 25\n",
        "print(f\"el nombre es {nombre} y la edad es {edad}\")"
      ],
      "metadata": {
        "colab": {
          "base_uri": "https://localhost:8080/"
        },
        "id": "X2f4xMf1F9Tc",
        "outputId": "4c1eb8b0-0c81-424c-c118-361c2375df0a"
      },
      "execution_count": null,
      "outputs": [
        {
          "output_type": "stream",
          "name": "stdout",
          "text": [
            "el nombre es Alejandro y la edad es 25\n"
          ]
        }
      ]
    },
    {
      "cell_type": "markdown",
      "source": [
        "##listas\n"
      ],
      "metadata": {
        "id": "VEAyBVlkPwq9"
      }
    },
    {
      "cell_type": "code",
      "source": [
        "mi_lista=['uno','dos','tres']\n",
        "otra_lista=[1,2,3]\n",
        "nueva_lista = mi_lista + otra_lista\n",
        "print(nueva_lista)"
      ],
      "metadata": {
        "colab": {
          "base_uri": "https://localhost:8080/"
        },
        "id": "nLRI8PcKPyKs",
        "outputId": "0e4a7530-6f65-4805-cb69-657ef5a3577c"
      },
      "execution_count": null,
      "outputs": [
        {
          "output_type": "stream",
          "name": "stdout",
          "text": [
            "['uno', 'dos', 'tres', 1, 2, 3]\n"
          ]
        }
      ]
    },
    {
      "cell_type": "code",
      "source": [
        "nueva_lista.pop(4)\n",
        "print(nueva_lista)"
      ],
      "metadata": {
        "colab": {
          "base_uri": "https://localhost:8080/"
        },
        "id": "YJfkQ97uQGvB",
        "outputId": "2d5d0162-6745-4e17-817a-7dae726b8ced"
      },
      "execution_count": null,
      "outputs": [
        {
          "output_type": "stream",
          "name": "stdout",
          "text": [
            "['uno', 'dos', 'tres', 1]\n"
          ]
        }
      ]
    },
    {
      "cell_type": "code",
      "source": [
        "item_popeado = nueva_lista.pop(2)\n",
        "print(item_popeado)\n",
        "print(nueva_lista)"
      ],
      "metadata": {
        "colab": {
          "base_uri": "https://localhost:8080/"
        },
        "id": "83DxdUywQZvI",
        "outputId": "90f30832-7269-451a-b571-02113d7a656b"
      },
      "execution_count": null,
      "outputs": [
        {
          "output_type": "stream",
          "name": "stdout",
          "text": [
            "1\n",
            "['uno', 'dos']\n"
          ]
        }
      ]
    },
    {
      "cell_type": "code",
      "source": [
        "mi_lista=['a','z','x']\n",
        "mi_lista2 = [4, 5 ,7 ,3]\n",
        "mi_lista.sort()\n",
        "mi_lista2.reverse()\n",
        "print(mi_lista)\n",
        "print(mi_lista2)\n",
        "\n"
      ],
      "metadata": {
        "colab": {
          "base_uri": "https://localhost:8080/"
        },
        "id": "dA_x3RKdRCQ5",
        "outputId": "7764f89b-e85e-4fce-b347-4d933959e2ba"
      },
      "execution_count": null,
      "outputs": [
        {
          "output_type": "stream",
          "name": "stdout",
          "text": [
            "['a', 'x', 'z']\n",
            "[3, 7, 5, 4]\n"
          ]
        }
      ]
    },
    {
      "cell_type": "markdown",
      "source": [
        "### ejercicios listas"
      ],
      "metadata": {
        "id": "7LXNqlP6-nkp"
      }
    },
    {
      "cell_type": "code",
      "source": [
        "#ejercicios\n",
        "#Crea una lista con los números del 1 al 10.\n",
        "nueva_lista = list(range(1,11))\n",
        "print(nueva_lista)"
      ],
      "metadata": {
        "colab": {
          "base_uri": "https://localhost:8080/"
        },
        "id": "VvVCpXjc-cHM",
        "outputId": "6d4f793c-7125-4d88-f089-cc813d765655"
      },
      "execution_count": null,
      "outputs": [
        {
          "output_type": "stream",
          "name": "stdout",
          "text": [
            "[1, 2, 3, 4, 5, 6, 7, 8, 9, 10]\n"
          ]
        }
      ]
    },
    {
      "cell_type": "code",
      "source": [
        "#Imprime los elementos de la lista en orden inverso.\n",
        "nueva_lista.reverse()\n",
        "print(nueva_lista)"
      ],
      "metadata": {
        "colab": {
          "base_uri": "https://localhost:8080/"
        },
        "id": "5QDi3Zsd-0nX",
        "outputId": "e3820226-a035-4e53-e87e-07e183276fc3"
      },
      "execution_count": null,
      "outputs": [
        {
          "output_type": "stream",
          "name": "stdout",
          "text": [
            "[3, 4, 5, 6, 7, 8, 9, 10]\n"
          ]
        }
      ]
    },
    {
      "cell_type": "code",
      "source": [
        "#suma todos los elementos de la lista\n",
        "suma = sum(nueva_lista)\n",
        "print(suma)"
      ],
      "metadata": {
        "colab": {
          "base_uri": "https://localhost:8080/"
        },
        "id": "89m1QnUe_OB6",
        "outputId": "e96452bd-61ce-4b56-99e1-104cb3818248"
      },
      "execution_count": null,
      "outputs": [
        {
          "output_type": "stream",
          "name": "stdout",
          "text": [
            "52\n"
          ]
        }
      ]
    },
    {
      "cell_type": "code",
      "source": [
        "#encuentra el elemento mas grande de la lista\n",
        "maximo = max(nueva_lista)\n",
        "print(maximo)"
      ],
      "metadata": {
        "colab": {
          "base_uri": "https://localhost:8080/"
        },
        "id": "EjXj8x-w_msB",
        "outputId": "0489f93c-02d3-4a70-96a3-ce519f87f9d3"
      },
      "execution_count": null,
      "outputs": [
        {
          "output_type": "stream",
          "name": "stdout",
          "text": [
            "10\n"
          ]
        }
      ]
    },
    {
      "cell_type": "code",
      "source": [
        "#elimina el ultimo elemento de la lista\n",
        "nueva_lista.pop(-1)\n",
        "print(nueva_lista)"
      ],
      "metadata": {
        "colab": {
          "base_uri": "https://localhost:8080/"
        },
        "id": "j7Hmsr4i_xCh",
        "outputId": "826cfef5-ad99-4f0f-b8e9-c9f154c8662c"
      },
      "execution_count": null,
      "outputs": [
        {
          "output_type": "stream",
          "name": "stdout",
          "text": [
            "[1, 2, 3, 4, 5, 6, 7, 8, 9]\n"
          ]
        }
      ]
    },
    {
      "cell_type": "markdown",
      "source": [
        "Intermedio"
      ],
      "metadata": {
        "id": "TRZTjULZABBI"
      }
    },
    {
      "cell_type": "code",
      "source": [],
      "metadata": {
        "id": "ijPm6hV-Dfar"
      },
      "execution_count": null,
      "outputs": []
    },
    {
      "cell_type": "code",
      "source": [
        "#Crea una lista con los nombres de tus amigos.\n",
        "amigos = ['Ale', 'Fab', 'Meli', 'Brayan']\n",
        "print(amigos)\n",
        "#Ordena la lista de nombres alfabéticamente.\n",
        "amigos.sort()\n",
        "print(amigos)\n",
        "#Itera sobre la lista de nombres e imprime cada nombre con un saludo.\n",
        "for i in amigos:\n",
        "  print(f\"Hola {i}\")\n",
        "print(\"-- saludos completos--\")\n",
        "#Crea una lista con los números pares del 1 al 20.\n",
        "#1\n",
        "num_pares = []\n",
        "for i in range(1,21):\n",
        "  if i%2 == 0:\n",
        "    num_pares.append(i)\n",
        "print(num_pares)\n",
        "#2 list comprehension\n",
        "num_pares = [i for i in range(1,21) if i%2 ==0 ]\n",
        "print(num_pares)\n",
        "\n",
        "#filtra la lista de nombres para obtener solo los nombres que empiezan por una vocal\n",
        "amigos_con_vocal = [i for i in amigos if i.startswith(('A','E', 'I', 'O', 'U'))]\n",
        "print(amigos_con_vocal)"
      ],
      "metadata": {
        "colab": {
          "base_uri": "https://localhost:8080/"
        },
        "id": "_S4IMtJ7AAWx",
        "outputId": "3bb35ddd-2231-4891-f7a6-5b398daa3aef"
      },
      "execution_count": null,
      "outputs": [
        {
          "output_type": "stream",
          "name": "stdout",
          "text": [
            "['Ale', 'Fab', 'Meli', 'Brayan']\n",
            "['Ale', 'Brayan', 'Fab', 'Meli']\n",
            "Hola Ale\n",
            "Hola Brayan\n",
            "Hola Fab\n",
            "Hola Meli\n",
            "-- saludos completos--\n",
            "[2, 4, 6, 8, 10, 12, 14, 16, 18, 20]\n",
            "[2, 4, 6, 8, 10, 12, 14, 16, 18, 20]\n",
            "['Ale']\n"
          ]
        }
      ]
    },
    {
      "cell_type": "markdown",
      "source": [
        "Avanzado"
      ],
      "metadata": {
        "id": "SKk6TYYeFnjV"
      }
    },
    {
      "cell_type": "code",
      "source": [
        "#Crea una lista con los números del 1 al 100 ??????\n",
        "lista_1_100 = list(range(1,101))\n",
        "print(lista_1_100)\n",
        "\n",
        "#Elimina todos los múltiplos de 3 de la lista.\n",
        "lista_1_100 = [i for i in lista_1_100 if i % 3 != 0]# i%3 !=0 nos indica que no tiene residuo despues de dividirlo entre 3\n",
        "print(lista_1_100)\n",
        "\n"
      ],
      "metadata": {
        "colab": {
          "base_uri": "https://localhost:8080/"
        },
        "id": "2gOZ2WyLFoaO",
        "outputId": "50768560-eda2-40da-9078-c2cbba2a8ab7"
      },
      "execution_count": null,
      "outputs": [
        {
          "output_type": "stream",
          "name": "stdout",
          "text": [
            "[1, 2, 3, 4, 5, 6, 7, 8, 9, 10, 11, 12, 13, 14, 15, 16, 17, 18, 19, 20, 21, 22, 23, 24, 25, 26, 27, 28, 29, 30, 31, 32, 33, 34, 35, 36, 37, 38, 39, 40, 41, 42, 43, 44, 45, 46, 47, 48, 49, 50, 51, 52, 53, 54, 55, 56, 57, 58, 59, 60, 61, 62, 63, 64, 65, 66, 67, 68, 69, 70, 71, 72, 73, 74, 75, 76, 77, 78, 79, 80, 81, 82, 83, 84, 85, 86, 87, 88, 89, 90, 91, 92, 93, 94, 95, 96, 97, 98, 99, 100]\n",
            "[1, 2, 4, 5, 7, 8, 10, 11, 13, 14, 16, 17, 19, 20, 22, 23, 25, 26, 28, 29, 31, 32, 34, 35, 37, 38, 40, 41, 43, 44, 46, 47, 49, 50, 52, 53, 55, 56, 58, 59, 61, 62, 64, 65, 67, 68, 70, 71, 73, 74, 76, 77, 79, 80, 82, 83, 85, 86, 88, 89, 91, 92, 94, 95, 97, 98, 100]\n"
          ]
        }
      ]
    },
    {
      "cell_type": "markdown",
      "source": [
        "##Diccionarios."
      ],
      "metadata": {
        "id": "mPe856AJR2-W"
      }
    },
    {
      "cell_type": "code",
      "source": [
        "mi_diccionario ={'llave':'valor', 'llave2':'valor2'}\n",
        "print(f\"mi diccionario es{mi_diccionario}\")\n",
        "print(mi_diccionario['llave'])\n"
      ],
      "metadata": {
        "colab": {
          "base_uri": "https://localhost:8080/"
        },
        "id": "yaM0mPlASMzT",
        "outputId": "cd19a5f0-0d87-4782-f4a4-d85f404bc86f"
      },
      "execution_count": null,
      "outputs": [
        {
          "output_type": "stream",
          "name": "stdout",
          "text": [
            "mi diccionario es{'llave': 'valor', 'llave2': 'valor2'}\n",
            "valor\n"
          ]
        }
      ]
    },
    {
      "cell_type": "code",
      "source": [
        "mi_diccionario ={'manzana':'2.90', 'leche':'4.20'}\n",
        "print(f\"mi diccionario es{mi_diccionario}\")\n",
        "print(f\"el precio de la leche es:  {mi_diccionario['leche']}\")"
      ],
      "metadata": {
        "colab": {
          "base_uri": "https://localhost:8080/"
        },
        "id": "v2N14IN3S40s",
        "outputId": "5b66a83f-0d8b-417b-d388-f1ba2745746c"
      },
      "execution_count": null,
      "outputs": [
        {
          "output_type": "stream",
          "name": "stdout",
          "text": [
            "mi diccionario es{'manzana': '2.90', 'leche': '4.20'}\n",
            "el precio de la leche es:  4.20\n"
          ]
        }
      ]
    },
    {
      "cell_type": "code",
      "source": [
        "mi_diccionario ={'manzana':'2.90','keke':['manzana', 'naranja', 'chocolate'], 'leche':'4.20'}\n",
        "#Escoge el segundo keke y cambialo a mayusculas\n",
        "print(f\"el sabor del keke es :  {mi_diccionario['keke'][1].upper()}\")"
      ],
      "metadata": {
        "colab": {
          "base_uri": "https://localhost:8080/"
        },
        "id": "RY3gqvL6TSXk",
        "outputId": "35c5a58c-9a45-43bb-cb1e-fddf56636e6e"
      },
      "execution_count": null,
      "outputs": [
        {
          "output_type": "stream",
          "name": "stdout",
          "text": [
            "el sabor del keke es :  NARANJA\n"
          ]
        }
      ]
    },
    {
      "cell_type": "code",
      "source": [
        "mi_diccionario = {'manzana':'2.90','keke':['manzana', 'naranja', 'chocolate'], 'leche':'4.20'}\n",
        "#añade un par llave valor al diccionario\n",
        "mi_diccionario['gaseosa'] = 5.90\n",
        "print(mi_diccionario)"
      ],
      "metadata": {
        "colab": {
          "base_uri": "https://localhost:8080/"
        },
        "id": "nl-XiRcjUa6S",
        "outputId": "c594cbfb-f8dd-4bb8-ecc4-a46e8282fbc6"
      },
      "execution_count": null,
      "outputs": [
        {
          "output_type": "stream",
          "name": "stdout",
          "text": [
            "{'manzana': '2.90', 'keke': ['manzana', 'naranja', 'chocolate'], 'leche': '4.20', 'gaseosa': 5.9}\n"
          ]
        }
      ]
    },
    {
      "cell_type": "code",
      "source": [
        "#eliminar una llave:valor\n",
        "del mi_diccionario[\"leche\"]\n",
        "print(mi_diccionario)"
      ],
      "metadata": {
        "colab": {
          "base_uri": "https://localhost:8080/"
        },
        "id": "n_awJXo85Pem",
        "outputId": "ed2226db-ac5a-4b1a-e56a-6ac582a383be"
      },
      "execution_count": null,
      "outputs": [
        {
          "output_type": "stream",
          "name": "stdout",
          "text": [
            "{'manzana': '2.90', 'keke': ['manzana', 'naranja', 'chocolate'], 'gaseosa': 5.9}\n"
          ]
        }
      ]
    },
    {
      "cell_type": "code",
      "source": [
        "#Como imprimo los valores de .keys() o values() ?\n",
        "llaves = mi_diccionario.keys()\n",
        "print(llaves)\n",
        "\n",
        "print(mi_diccionario.values())"
      ],
      "metadata": {
        "colab": {
          "base_uri": "https://localhost:8080/"
        },
        "id": "Piy2A6MyUxtF",
        "outputId": "7166a32c-34e5-4b8c-a121-42feaedf2da7"
      },
      "execution_count": null,
      "outputs": [
        {
          "output_type": "stream",
          "name": "stdout",
          "text": [
            "dict_keys(['manzana', 'keke', 'gaseosa'])\n",
            "dict_values(['2.90', ['manzana', 'naranja', 'chocolate'], 5.9])\n"
          ]
        }
      ]
    },
    {
      "cell_type": "code",
      "source": [
        "for i in mi_diccionario:\n",
        "  print(i, mi_diccionario[i])"
      ],
      "metadata": {
        "colab": {
          "base_uri": "https://localhost:8080/"
        },
        "id": "-v5woOhxGhOo",
        "outputId": "4f8fdd7b-2f1d-47a0-9294-cdf6eca57b35"
      },
      "execution_count": null,
      "outputs": [
        {
          "output_type": "stream",
          "name": "stdout",
          "text": [
            "manzana 2.90\n",
            "keke ['manzana', 'naranja', 'chocolate']\n",
            "gaseosa 5.9\n"
          ]
        }
      ]
    },
    {
      "cell_type": "code",
      "source": [
        "llaves_dic = [i for i in mi_diccionario.keys()]\n",
        "print(llaves_dic)"
      ],
      "metadata": {
        "colab": {
          "base_uri": "https://localhost:8080/"
        },
        "id": "Nt-FI6OKGCkG",
        "outputId": "a41b7716-75e7-49a5-e33a-5a20b22a07ea"
      },
      "execution_count": null,
      "outputs": [
        {
          "output_type": "stream",
          "name": "stdout",
          "text": [
            "['manzana', 'keke', 'gaseosa']\n"
          ]
        }
      ]
    },
    {
      "cell_type": "markdown",
      "source": [
        "Ejercicio diccionario bootcamp"
      ],
      "metadata": {
        "id": "AtE0fvCh8cgC"
      }
    },
    {
      "cell_type": "code",
      "source": [
        "#Tienes un diccionario con frutas y su cantidad\n",
        "caja_de_frutas = {\"Manzanas\": 1, \"Naranjas\": 2, \"Peras\": 3}\n",
        "print(f\"La caja de frutas contiene: {caja_de_frutas}\")\n",
        "#añadir 3 mangos\n",
        "caja_de_frutas [\"Mangos\"] = 3\n",
        "print(f\"La caja de frutas contiene: {caja_de_frutas}\")\n",
        "#actualizar la cantidad de manzanas a 4\n",
        "caja_de_frutas [\"Manzanas\"] = 4\n",
        "print(f\"La caja de frutas contiene: {caja_de_frutas}\")\n",
        "#Eliminar peras del diccionario\n",
        "del caja_de_frutas [\"Peras\"]\n",
        "print(f\"La caja de frutas contiene: {caja_de_frutas}\")\n",
        "#Acceder y almacenar en una variable la cantidad de naranjas\n",
        "q_naranjas = caja_de_frutas[\"Naranjas\"]\n",
        "print(f\"hay {q_naranjas} naranjas\")"
      ],
      "metadata": {
        "colab": {
          "base_uri": "https://localhost:8080/"
        },
        "id": "GJ-tbPD46UCe",
        "outputId": "ce574ce1-6a99-4a2f-fe69-ff4beb46c914"
      },
      "execution_count": null,
      "outputs": [
        {
          "output_type": "stream",
          "name": "stdout",
          "text": [
            "La caja de frutas contiene: {'Manzanas': 1, 'Naranjas': 2, 'Peras': 3}\n",
            "La caja de frutas contiene: {'Manzanas': 1, 'Naranjas': 2, 'Peras': 3, 'Mangos': 3}\n",
            "La caja de frutas contiene: {'Manzanas': 4, 'Naranjas': 2, 'Peras': 3, 'Mangos': 3}\n",
            "La caja de frutas contiene: {'Manzanas': 4, 'Naranjas': 2, 'Mangos': 3}\n",
            "hay 2 naranjas\n"
          ]
        }
      ]
    },
    {
      "cell_type": "markdown",
      "source": [
        "##TUPLAS\n",
        "es inmutable a diferencia de las listas\n"
      ],
      "metadata": {
        "id": "E53xkJuU0VQx"
      }
    },
    {
      "cell_type": "code",
      "source": [
        "t =  (1,2,3,1,1)\n",
        "\n",
        "lista = [1,2,3,1,1]\n",
        "print(type(lista))\n",
        "print(type(t))\n",
        "print(t[0:2])\n",
        "#metodos de tuplas\n",
        "print(t.count(1))\n",
        "print(t.index(3))\n",
        "\n",
        "#inmutabilidad"
      ],
      "metadata": {
        "colab": {
          "base_uri": "https://localhost:8080/"
        },
        "id": "LosfRR2-0sXG",
        "outputId": "b79f5116-c981-4bd5-d1c4-4089c6d0af39"
      },
      "execution_count": null,
      "outputs": [
        {
          "output_type": "stream",
          "name": "stdout",
          "text": [
            "<class 'list'>\n",
            "<class 'tuple'>\n",
            "(1, 2)\n",
            "3\n",
            "2\n"
          ]
        }
      ]
    },
    {
      "cell_type": "code",
      "source": [
        "#inmutabilidad\n",
        "lista[0] = \"nuevo\"\n",
        "t[0] = \"nuevo\""
      ],
      "metadata": {
        "colab": {
          "base_uri": "https://localhost:8080/",
          "height": 185
        },
        "id": "0wjZoP9I92KB",
        "outputId": "97d00eaf-ac16-4ced-e1db-5112837a5ec4"
      },
      "execution_count": null,
      "outputs": [
        {
          "output_type": "error",
          "ename": "TypeError",
          "evalue": "'tuple' object does not support item assignment",
          "traceback": [
            "\u001b[0;31m---------------------------------------------------------------------------\u001b[0m",
            "\u001b[0;31mTypeError\u001b[0m                                 Traceback (most recent call last)",
            "\u001b[0;32m<ipython-input-51-3837af01152b>\u001b[0m in \u001b[0;36m<cell line: 3>\u001b[0;34m()\u001b[0m\n\u001b[1;32m      1\u001b[0m \u001b[0;31m#inmutabilidad\u001b[0m\u001b[0;34m\u001b[0m\u001b[0;34m\u001b[0m\u001b[0m\n\u001b[1;32m      2\u001b[0m \u001b[0mlista\u001b[0m\u001b[0;34m[\u001b[0m\u001b[0;36m0\u001b[0m\u001b[0;34m]\u001b[0m \u001b[0;34m=\u001b[0m \u001b[0;34m\"nuevo\"\u001b[0m\u001b[0;34m\u001b[0m\u001b[0;34m\u001b[0m\u001b[0m\n\u001b[0;32m----> 3\u001b[0;31m \u001b[0mt\u001b[0m\u001b[0;34m[\u001b[0m\u001b[0;36m0\u001b[0m\u001b[0;34m]\u001b[0m \u001b[0;34m=\u001b[0m \u001b[0;34m\"nuevo\"\u001b[0m\u001b[0;34m\u001b[0m\u001b[0;34m\u001b[0m\u001b[0m\n\u001b[0m",
            "\u001b[0;31mTypeError\u001b[0m: 'tuple' object does not support item assignment"
          ]
        }
      ]
    },
    {
      "cell_type": "markdown",
      "source": [
        "##SET\n",
        "coleccion **unica **y desordenada de elementos"
      ],
      "metadata": {
        "id": "0WLe0Sg59mqy"
      }
    },
    {
      "cell_type": "code",
      "source": [
        "mi_set = set()\n",
        "#agregar objetos a set\n",
        "mi_set.add(2)\n",
        "mi_set.add(1)\n",
        "print(mi_set)"
      ],
      "metadata": {
        "colab": {
          "base_uri": "https://localhost:8080/"
        },
        "id": "J1O8eWIt9njP",
        "outputId": "13ef24f6-126c-4893-aab6-37c57b87e927"
      },
      "execution_count": null,
      "outputs": [
        {
          "output_type": "stream",
          "name": "stdout",
          "text": [
            "{1, 2}\n"
          ]
        }
      ]
    },
    {
      "cell_type": "code",
      "source": [
        "#usar set para obtener valores unicos de una lista\n",
        "milista=[1,1,1,1,2,3,4,5,6,2,3,5,4,6,7,8]\n",
        "\n",
        "print(set(milista))"
      ],
      "metadata": {
        "colab": {
          "base_uri": "https://localhost:8080/"
        },
        "id": "53w0vRWl-T6O",
        "outputId": "883744f7-0444-4254-bb9e-03c631bba0b2"
      },
      "execution_count": null,
      "outputs": [
        {
          "output_type": "stream",
          "name": "stdout",
          "text": [
            "{1, 2, 3, 4, 5, 6, 7, 8}\n"
          ]
        }
      ]
    },
    {
      "cell_type": "markdown",
      "source": [
        "##BOOLEANOS (BOL)\n",
        "Verdadero = 0 = True\n",
        "Falso= 1 = False\n",
        "True y False son case sensitive"
      ],
      "metadata": {
        "id": "hlB0gAyf_MQp"
      }
    },
    {
      "cell_type": "code",
      "source": [
        "print(1>2)\n",
        "print(2==2)"
      ],
      "metadata": {
        "colab": {
          "base_uri": "https://localhost:8080/"
        },
        "id": "hef6IVCL_LJ6",
        "outputId": "f5c71aac-0da4-4dad-fe83-095219497571"
      },
      "execution_count": null,
      "outputs": [
        {
          "output_type": "stream",
          "name": "stdout",
          "text": [
            "False\n",
            "True\n"
          ]
        }
      ]
    },
    {
      "cell_type": "markdown",
      "source": [
        "##Comparadores de operaciones y comparadores logicos\n",
        "\n"
      ],
      "metadata": {
        "id": "rBYex97z_n60"
      }
    },
    {
      "cell_type": "markdown",
      "source": [
        "\n",
        "\n",
        "*   OPERACIONES : == igualdad , != desigualdad,\">\" mayor que, < menor que, >= , <=\n",
        "*   LOGICOS : and , or , not\n"
      ],
      "metadata": {
        "id": "Fa2j40f4AeK1"
      }
    },
    {
      "cell_type": "code",
      "source": [
        "1 < 2\n",
        "1 > 3 or 1 == 1"
      ],
      "metadata": {
        "colab": {
          "base_uri": "https://localhost:8080/"
        },
        "id": "TAsgBNj7_dmh",
        "outputId": "430330ca-34e6-4611-98dc-6e6d565a603f"
      },
      "execution_count": null,
      "outputs": [
        {
          "output_type": "execute_result",
          "data": {
            "text/plain": [
              "True"
            ]
          },
          "metadata": {},
          "execution_count": 62
        }
      ]
    },
    {
      "cell_type": "code",
      "source": [
        "2+4 > 3-1"
      ],
      "metadata": {
        "colab": {
          "base_uri": "https://localhost:8080/"
        },
        "id": "x6etIb5EA2f3",
        "outputId": "d3e058b5-71dc-4077-ccb3-e3dbc4b6c269"
      },
      "execution_count": null,
      "outputs": [
        {
          "output_type": "execute_result",
          "data": {
            "text/plain": [
              "True"
            ]
          },
          "metadata": {},
          "execution_count": 63
        }
      ]
    },
    {
      "cell_type": "code",
      "source": [
        "\"y\" == \"y\" and 3+4 == 2+5"
      ],
      "metadata": {
        "colab": {
          "base_uri": "https://localhost:8080/"
        },
        "id": "L9BItox7BATJ",
        "outputId": "4044dbe9-5db3-42fd-9a68-bef7a0b5e7ec"
      },
      "execution_count": null,
      "outputs": [
        {
          "output_type": "execute_result",
          "data": {
            "text/plain": [
              "True"
            ]
          },
          "metadata": {},
          "execution_count": 64
        }
      ]
    },
    {
      "cell_type": "code",
      "source": [
        "not 1 == 1"
      ],
      "metadata": {
        "colab": {
          "base_uri": "https://localhost:8080/"
        },
        "id": "rq1fdibQBGyr",
        "outputId": "fac9f495-6542-43ad-f885-7a1849e9635f"
      },
      "execution_count": null,
      "outputs": [
        {
          "output_type": "execute_result",
          "data": {
            "text/plain": [
              "False"
            ]
          },
          "metadata": {},
          "execution_count": 65
        }
      ]
    },
    {
      "cell_type": "code",
      "source": [
        " not 300 > 6000"
      ],
      "metadata": {
        "colab": {
          "base_uri": "https://localhost:8080/"
        },
        "id": "-TslSmhCBL69",
        "outputId": "34a3f311-2cff-4915-f709-3621f53d632d"
      },
      "execution_count": null,
      "outputs": [
        {
          "output_type": "execute_result",
          "data": {
            "text/plain": [
              "True"
            ]
          },
          "metadata": {},
          "execution_count": 67
        }
      ]
    },
    {
      "cell_type": "markdown",
      "source": [
        "# DECLARACIONES\n",
        "\n",
        "\n",
        "1.   If\n",
        "2.   Elif\n",
        "3.   Else\n",
        "\n",
        "\n",
        "\n"
      ],
      "metadata": {
        "id": "CUIFVprCBRqT"
      }
    },
    {
      "cell_type": "code",
      "source": [
        "#Sintaxis\n",
        "if se_cumple_condicion:\n",
        "  #ejecutamos este codigo\n",
        "elif no_se_cumplio_la_condicion_anterior:\n",
        "  #ejecutamos algo distinto\n",
        "else:#si no se cumple ninguna\n",
        "  #hacer algo mas\n"
      ],
      "metadata": {
        "id": "jrleHNURBpPV"
      },
      "execution_count": null,
      "outputs": []
    },
    {
      "cell_type": "code",
      "source": [
        "if True:\n",
        "  print(True)"
      ],
      "metadata": {
        "colab": {
          "base_uri": "https://localhost:8080/"
        },
        "id": "zTlhp36bCKYW",
        "outputId": "7249ea9f-d1c3-4b91-cc49-a701b103e691"
      },
      "execution_count": null,
      "outputs": [
        {
          "output_type": "stream",
          "name": "stdout",
          "text": [
            "True\n"
          ]
        }
      ]
    },
    {
      "cell_type": "code",
      "source": [
        "hambre = True\n",
        "\n",
        "if hambre:\n",
        "  print(\"Tenemos hambre\")"
      ],
      "metadata": {
        "colab": {
          "base_uri": "https://localhost:8080/"
        },
        "id": "t1ahWtU2CWB1",
        "outputId": "4b86b16f-b9b6-42c6-fc1f-5eb4c30fe362"
      },
      "execution_count": null,
      "outputs": [
        {
          "output_type": "stream",
          "name": "stdout",
          "text": [
            "Tenemos hambre\n"
          ]
        }
      ]
    },
    {
      "cell_type": "code",
      "source": [
        "hambre = False\n",
        "\n",
        "if hambre:\n",
        "  print(\"Tenemos hambre\")\n",
        "else:\n",
        "  print(\"estamos llenos\")"
      ],
      "metadata": {
        "colab": {
          "base_uri": "https://localhost:8080/"
        },
        "id": "SVceFLYGChQy",
        "outputId": "67c88550-ff26-4d67-a21f-ca75fe3e3fcb"
      },
      "execution_count": null,
      "outputs": [
        {
          "output_type": "stream",
          "name": "stdout",
          "text": [
            "estamos llenos\n"
          ]
        }
      ]
    },
    {
      "cell_type": "code",
      "source": [
        "hambre = True\n",
        "sed = True\n",
        "\n",
        "if hambre and not sed:\n",
        "  print(\"Tenemos hambre\")\n",
        "elif hambre and sed:\n",
        "  print(\"tenemos hambre y sed\")\n",
        "else:\n",
        "  print(\"estamos llenos\")"
      ],
      "metadata": {
        "colab": {
          "base_uri": "https://localhost:8080/"
        },
        "id": "rrGz4vSRCrZi",
        "outputId": "6197a9c4-376f-4c86-eb94-0a36c43d9dca"
      },
      "execution_count": null,
      "outputs": [
        {
          "output_type": "stream",
          "name": "stdout",
          "text": [
            "tenemos hambre y sed\n"
          ]
        }
      ]
    },
    {
      "cell_type": "markdown",
      "source": [
        "#CICLOS FOR\n",
        "ciclo iterativo sobre un bloque de código"
      ],
      "metadata": {
        "id": "LMNQYkUzDRty"
      }
    },
    {
      "cell_type": "code",
      "source": [
        "#Sintaxis\n",
        "lista_iterable = [1,2,3]\n",
        "\n",
        "for nombre_item in lista_iterable\n",
        "  print(elemento_lista)"
      ],
      "metadata": {
        "id": "P1A0LNPCDadp"
      },
      "execution_count": null,
      "outputs": []
    },
    {
      "cell_type": "code",
      "source": [
        "milista = [1,2,3,4,5,6,7,8,9,10]\n",
        "for numero in milista:\n",
        "  print(numero, end=\"\")"
      ],
      "metadata": {
        "colab": {
          "base_uri": "https://localhost:8080/"
        },
        "id": "cj6F0cgxDonD",
        "outputId": "7fd93aaf-5af7-40f8-b6de-058c5ea3208b"
      },
      "execution_count": null,
      "outputs": [
        {
          "output_type": "stream",
          "name": "stdout",
          "text": [
            "12345678910"
          ]
        }
      ]
    },
    {
      "cell_type": "code",
      "source": [
        "milista = [1,2,3,4,5,6,7,8,9,10]\n",
        "for i in milista:\n",
        "  #identificar pares e impares\n",
        "  if i % 2 ==0:\n",
        "    print(f\"Numero par:{i}\")\n",
        "  else:\n",
        "    print(f\"Numero impar:{i}\")"
      ],
      "metadata": {
        "colab": {
          "base_uri": "https://localhost:8080/"
        },
        "id": "S3-zLr1xETX0",
        "outputId": "03862091-0c46-4892-bb58-dc80aec39368"
      },
      "execution_count": null,
      "outputs": [
        {
          "output_type": "stream",
          "name": "stdout",
          "text": [
            "Numero impar:1\n",
            "Numero par:2\n",
            "Numero impar:3\n",
            "Numero par:4\n",
            "Numero impar:5\n",
            "Numero par:6\n",
            "Numero impar:7\n",
            "Numero par:8\n",
            "Numero impar:9\n",
            "Numero par:10\n"
          ]
        }
      ]
    },
    {
      "cell_type": "code",
      "source": [
        "milista = [1,2,3,4,5,6,7,8,9,10]\n",
        "contador_lista = 0\n",
        "#suma acumulada de los elementos\n",
        "for i in milista:\n",
        " contador_lista = contador_lista + i\n",
        " print(contador_lista)"
      ],
      "metadata": {
        "colab": {
          "base_uri": "https://localhost:8080/"
        },
        "id": "GFg1Jho_EvJS",
        "outputId": "f81d646e-0aca-4843-c917-58f3d6d2f77b"
      },
      "execution_count": null,
      "outputs": [
        {
          "output_type": "stream",
          "name": "stdout",
          "text": [
            "1\n",
            "3\n",
            "6\n",
            "10\n",
            "15\n",
            "21\n",
            "28\n",
            "36\n",
            "45\n",
            "55\n"
          ]
        }
      ]
    },
    {
      "cell_type": "code",
      "source": [
        "for i in \"hola mundo\":\n",
        " print(i, end=\"\")"
      ],
      "metadata": {
        "colab": {
          "base_uri": "https://localhost:8080/"
        },
        "id": "If8NpXoNFaF8",
        "outputId": "ed9a3375-c466-4a94-a293-a49c1fea46b4"
      },
      "execution_count": null,
      "outputs": [
        {
          "output_type": "stream",
          "name": "stdout",
          "text": [
            "hola mundo"
          ]
        }
      ]
    },
    {
      "cell_type": "markdown",
      "source": [
        "##Tuple unpacking"
      ],
      "metadata": {
        "id": "0Av7aFGkFmHO"
      }
    },
    {
      "cell_type": "code",
      "source": [
        "mi_lista= [(1,\"a\"),(2,\"b\"),(3,\"c\"),(4,\"d\")]\n",
        "print(mi_lista)\n",
        "\n",
        "print(len(mi_lista))"
      ],
      "metadata": {
        "colab": {
          "base_uri": "https://localhost:8080/"
        },
        "id": "KSGVPbwTFqG2",
        "outputId": "96486094-7c2f-4b8f-82b0-d99285a2f5c6"
      },
      "execution_count": null,
      "outputs": [
        {
          "output_type": "stream",
          "name": "stdout",
          "text": [
            "[(1, 'a'), (2, 'b'), (3, 'c'), (4, 'd')]\n",
            "4\n"
          ]
        }
      ]
    },
    {
      "cell_type": "code",
      "source": [
        "for i in mi_lista:\n",
        "  print(i)"
      ],
      "metadata": {
        "colab": {
          "base_uri": "https://localhost:8080/"
        },
        "id": "NuxsTOZTGCQr",
        "outputId": "ca53b1c3-c556-422f-df80-50b5c5295ad2"
      },
      "execution_count": null,
      "outputs": [
        {
          "output_type": "stream",
          "name": "stdout",
          "text": [
            "(1, 'a')\n",
            "(2, 'b')\n",
            "(3, 'c')\n",
            "(4, 'd')\n"
          ]
        }
      ]
    },
    {
      "cell_type": "code",
      "source": [
        "#Desempaquetado de tuplas\n",
        "for (a,b) in mi_lista:\n",
        "  print(a)\n",
        "  print(b)"
      ],
      "metadata": {
        "colab": {
          "base_uri": "https://localhost:8080/"
        },
        "id": "ZWMKZ3wMGSkp",
        "outputId": "c86ff359-e7f4-4544-a7ce-69030a84b098"
      },
      "execution_count": null,
      "outputs": [
        {
          "output_type": "stream",
          "name": "stdout",
          "text": [
            "1\n",
            "a\n",
            "2\n",
            "b\n",
            "3\n",
            "c\n",
            "4\n",
            "d\n"
          ]
        }
      ]
    },
    {
      "cell_type": "markdown",
      "source": [
        "## ciclos for en diccionarios"
      ],
      "metadata": {
        "id": "wWMlPAnlGhYC"
      }
    },
    {
      "cell_type": "code",
      "source": [
        "\n",
        "d = {\"y2\":1, \"y3\":2, \"y1\":3}\n",
        "#imprime solo las llaves\n",
        "for i in d:\n",
        "  print(i)"
      ],
      "metadata": {
        "colab": {
          "base_uri": "https://localhost:8080/"
        },
        "id": "GU7r80k-Gmv1",
        "outputId": "095cf953-a814-446c-f350-e157542f5468"
      },
      "execution_count": null,
      "outputs": [
        {
          "output_type": "stream",
          "name": "stdout",
          "text": [
            "y2\n",
            "y3\n",
            "y1\n"
          ]
        }
      ]
    },
    {
      "cell_type": "code",
      "source": [
        "#imprime llave y valor\n",
        "for i in d.items():\n",
        "  print(i)"
      ],
      "metadata": {
        "colab": {
          "base_uri": "https://localhost:8080/"
        },
        "id": "C06eWvatG2fa",
        "outputId": "0e091e30-674b-4186-c60f-b153fb8aa5e8"
      },
      "execution_count": null,
      "outputs": [
        {
          "output_type": "stream",
          "name": "stdout",
          "text": [
            "('y1', 1)\n",
            "('y2', 2)\n",
            "('y3', 3)\n"
          ]
        }
      ]
    },
    {
      "cell_type": "code",
      "source": [
        "#desempaquetado\n",
        "for llave, valor in d.items():\n",
        "    print(valor)"
      ],
      "metadata": {
        "colab": {
          "base_uri": "https://localhost:8080/"
        },
        "id": "nteSE77CHCzK",
        "outputId": "4cbbe871-e6c5-4374-9373-5d81fd40d1ea"
      },
      "execution_count": null,
      "outputs": [
        {
          "output_type": "stream",
          "name": "stdout",
          "text": [
            "1\n",
            "2\n",
            "3\n"
          ]
        }
      ]
    },
    {
      "cell_type": "code",
      "source": [
        "#no es ordenado\n",
        "d = {\"y1\":3, \"y2\":1, \"y3\":2}\n",
        "for valor in d.values():\n",
        "  print(valor)"
      ],
      "metadata": {
        "colab": {
          "base_uri": "https://localhost:8080/"
        },
        "id": "jJZODEaMHO8_",
        "outputId": "a5e79720-ce54-4501-81dc-4cdd3c5eff2b"
      },
      "execution_count": null,
      "outputs": [
        {
          "output_type": "stream",
          "name": "stdout",
          "text": [
            "3\n",
            "1\n",
            "2\n"
          ]
        }
      ]
    },
    {
      "cell_type": "markdown",
      "source": [
        "# CICLOS WHILE\n",
        "\n",
        "*   Continuan ejecutando un bloque **MIENTRAS(WHILE)** se cumpla una condicion\n",
        "\n"
      ],
      "metadata": {
        "id": "GXXd304TH0OS"
      }
    },
    {
      "cell_type": "code",
      "source": [
        "#Sintaxis\n",
        "while condicion_booleana:\n",
        "  #hace algo\n",
        "else:\n",
        "  #algo diferente"
      ],
      "metadata": {
        "id": "LXt9yUDIH2dU"
      },
      "execution_count": null,
      "outputs": []
    },
    {
      "cell_type": "code",
      "source": [
        "#Crea un contador\n",
        "x = 0\n",
        "\n",
        "while x < 5:\n",
        "  print (f\"El valor actual de x es :{x}\")\n",
        "  #incrementa un valor por cada elemento contado (x = x+1) == (x+=1)\n",
        "  x +=1"
      ],
      "metadata": {
        "colab": {
          "base_uri": "https://localhost:8080/"
        },
        "id": "dqI0gGTyIKey",
        "outputId": "f0dd77a4-a65b-4b7c-87dc-28cb0593a35f"
      },
      "execution_count": null,
      "outputs": [
        {
          "output_type": "stream",
          "name": "stdout",
          "text": [
            "El valor actual de x es :0\n",
            "El valor actual de x es :1\n",
            "El valor actual de x es :2\n",
            "El valor actual de x es :3\n",
            "El valor actual de x es :4\n"
          ]
        }
      ]
    },
    {
      "cell_type": "code",
      "source": [
        "#Crea un contador\n",
        "x = 0\n",
        "\n",
        "while x < 5:\n",
        "  print (f\"El valor actual de x es :{x}\")\n",
        "  x +=1\n",
        "else:\n",
        "  print(\"X no es mayor que 5\")\n",
        "  print(f\"El valor actual de x es: {x}\")"
      ],
      "metadata": {
        "colab": {
          "base_uri": "https://localhost:8080/"
        },
        "id": "wv9qhJymIu7n",
        "outputId": "427480a8-845e-4a97-c611-31b6eb3d76d9"
      },
      "execution_count": null,
      "outputs": [
        {
          "output_type": "stream",
          "name": "stdout",
          "text": [
            "El valor actual de x es :0\n",
            "El valor actual de x es :1\n",
            "El valor actual de x es :2\n",
            "El valor actual de x es :3\n",
            "El valor actual de x es :4\n",
            "X no es mayor que 5\n",
            "El valor actual de x es: 5\n"
          ]
        }
      ]
    },
    {
      "cell_type": "markdown",
      "source": [
        "\n"
      ],
      "metadata": {
        "id": "47IXCXZEJQ5v"
      }
    },
    {
      "cell_type": "code",
      "source": [
        "# Palabras clave para ciclos\n",
        "# break , continue , pass\n",
        "\n",
        "#PASS: continua a la siguiente linea de codigo cuando termina el ciclo\n",
        "x= [1,2,3]\n",
        "for i in x:\n",
        "  pass\n",
        "print('Fin del ciclo')"
      ],
      "metadata": {
        "colab": {
          "base_uri": "https://localhost:8080/"
        },
        "id": "znkh2xnKKmIV",
        "outputId": "996f4f27-c3f2-489f-87ab-2ab24058d66c"
      },
      "execution_count": null,
      "outputs": [
        {
          "output_type": "stream",
          "name": "stdout",
          "text": [
            "Fin del ciclo\n"
          ]
        }
      ]
    },
    {
      "cell_type": "code",
      "source": [
        "#CONTINUE : salta la condicion y continua la itearacion\n",
        "x= \"alejandra\"\n",
        "for i in x:\n",
        "  if i ==\"a\":\n",
        "    continue\n",
        "  print(i)"
      ],
      "metadata": {
        "colab": {
          "base_uri": "https://localhost:8080/"
        },
        "id": "RLpObdlkKsQ_",
        "outputId": "30485402-f523-46f1-b361-85f85af4ee63"
      },
      "execution_count": null,
      "outputs": [
        {
          "output_type": "stream",
          "name": "stdout",
          "text": [
            "l\n",
            "e\n",
            "j\n",
            "n\n",
            "d\n",
            "r\n"
          ]
        }
      ]
    },
    {
      "cell_type": "code",
      "source": [
        "#BREAK : rompe la cadena al cumplir la condicion\n",
        "x= \"alejandra\"\n",
        "for i in x:\n",
        "  if i ==\"j\":\n",
        "    break\n",
        "  print(i)"
      ],
      "metadata": {
        "colab": {
          "base_uri": "https://localhost:8080/"
        },
        "id": "nZ7ToJ4OL4Xv",
        "outputId": "bd6d2d0e-4618-454e-a431-6189c66dbdb8"
      },
      "execution_count": null,
      "outputs": [
        {
          "output_type": "stream",
          "name": "stdout",
          "text": [
            "a\n",
            "l\n",
            "e\n"
          ]
        }
      ]
    },
    {
      "cell_type": "markdown",
      "source": [
        "#operadores extra"
      ],
      "metadata": {
        "id": "rNT9VyIpMe_f"
      }
    },
    {
      "cell_type": "code",
      "source": [
        "milista = [1,2,3]\n",
        "for i in range(0,11,2): #range(inicio,final,pasos)\n",
        "  print(i)"
      ],
      "metadata": {
        "colab": {
          "base_uri": "https://localhost:8080/"
        },
        "id": "jzy0s6M5Mgx8",
        "outputId": "0373db80-d956-4cd0-9a01-c22393fea0f0"
      },
      "execution_count": null,
      "outputs": [
        {
          "output_type": "stream",
          "name": "stdout",
          "text": [
            "0\n",
            "2\n",
            "4\n",
            "6\n",
            "8\n",
            "10\n"
          ]
        }
      ]
    },
    {
      "cell_type": "code",
      "source": [
        "#generar una lista de un rango\n",
        "nueva_lista = list(range(0,11,2))\n",
        "print(nueva_lista)"
      ],
      "metadata": {
        "colab": {
          "base_uri": "https://localhost:8080/"
        },
        "id": "0P1xgIzZMv90",
        "outputId": "77b86c48-7401-4dd8-d938-c7eb00ad86be"
      },
      "execution_count": null,
      "outputs": [
        {
          "output_type": "stream",
          "name": "stdout",
          "text": [
            "[0, 2, 4, 6, 8, 10]\n"
          ]
        }
      ]
    },
    {
      "cell_type": "code",
      "source": [
        "#contador para iterar a través de una futura lista\n",
        "contador_indice = 0\n",
        "palabra = 'hola'\n",
        "\n",
        "for i in palabra:\n",
        "  print(palabra[contador_indice])\n",
        "  contador_indice +=1"
      ],
      "metadata": {
        "colab": {
          "base_uri": "https://localhost:8080/"
        },
        "id": "2_bfjT7ONAiX",
        "outputId": "82139bd8-2d2a-483e-9aa8-435610d7130a"
      },
      "execution_count": null,
      "outputs": [
        {
          "output_type": "stream",
          "name": "stdout",
          "text": [
            "h\n",
            "o\n",
            "l\n",
            "a\n"
          ]
        }
      ]
    },
    {
      "cell_type": "code",
      "source": [
        "contador_indice = -1\n",
        "palabra = 'hola'\n",
        "\n",
        "for i in palabra:\n",
        "  print(palabra[contador_indice])\n",
        "  contador_indice -=1"
      ],
      "metadata": {
        "colab": {
          "base_uri": "https://localhost:8080/"
        },
        "id": "qx8OQMCeNcbR",
        "outputId": "d815bc4d-9559-48c8-befd-98b4409f5453"
      },
      "execution_count": null,
      "outputs": [
        {
          "output_type": "stream",
          "name": "stdout",
          "text": [
            "a\n",
            "l\n",
            "o\n",
            "h\n"
          ]
        }
      ]
    },
    {
      "cell_type": "code",
      "source": [
        "for item in enumerate(palabra):\n",
        "  print(item)"
      ],
      "metadata": {
        "colab": {
          "base_uri": "https://localhost:8080/"
        },
        "id": "K_RogEJVNyyp",
        "outputId": "325ef76f-eaf8-4290-b725-d5c2fef4bade"
      },
      "execution_count": null,
      "outputs": [
        {
          "output_type": "stream",
          "name": "stdout",
          "text": [
            "(0, 'h')\n",
            "(1, 'o')\n",
            "(2, 'l')\n",
            "(3, 'a')\n"
          ]
        }
      ]
    },
    {
      "cell_type": "code",
      "source": [
        "for indice,letra in enumerate(palabra):\n",
        "  print(indice, end=\"\")\n",
        "  print(letra, end=\"\")\n",
        "  print(\"\\n\")"
      ],
      "metadata": {
        "colab": {
          "base_uri": "https://localhost:8080/"
        },
        "id": "YhZfseYsOAPn",
        "outputId": "8156c264-9b3c-4f72-d7a2-81abb0195372"
      },
      "execution_count": null,
      "outputs": [
        {
          "output_type": "stream",
          "name": "stdout",
          "text": [
            "0h\n",
            "\n",
            "1o\n",
            "\n",
            "2l\n",
            "\n",
            "3a\n",
            "\n"
          ]
        }
      ]
    },
    {
      "cell_type": "code",
      "source": [
        "#establecer una relacion clave:valor entre dos listas\n",
        "lista1 = [1,2,3]\n",
        "lista2 = [\"a\", \"b\", \"c\"]\n",
        "\n",
        "for i in zip(lista1,lista2):#funcion que agrupa listas\n",
        "  print(i)"
      ],
      "metadata": {
        "colab": {
          "base_uri": "https://localhost:8080/"
        },
        "id": "kTl9RA3SPR33",
        "outputId": "3b8da29e-750f-4c63-9583-22190f646b55"
      },
      "execution_count": null,
      "outputs": [
        {
          "output_type": "stream",
          "name": "stdout",
          "text": [
            "(1, 'a')\n",
            "(2, 'b')\n",
            "(3, 'c')\n"
          ]
        }
      ]
    },
    {
      "cell_type": "code",
      "source": [
        "print(type(zip(lista1,lista2)))"
      ],
      "metadata": {
        "colab": {
          "base_uri": "https://localhost:8080/"
        },
        "id": "oXrItdUDPn-C",
        "outputId": "6b7ea307-6ff5-4f71-8093-dfb2190e1116"
      },
      "execution_count": null,
      "outputs": [
        {
          "output_type": "stream",
          "name": "stdout",
          "text": [
            "<class 'zip'>\n"
          ]
        }
      ]
    },
    {
      "cell_type": "code",
      "source": [
        "lista1 = [1,2,3,4,5,6,7]\n",
        "lista2 = [\"a\", \"b\", \"c\"]\n",
        "lista3 = [100,200,300]\n",
        "\n",
        "listas_zip = zip(lista1, lista2, lista3)\n",
        "print(listas_zip)\n",
        "\n",
        "zip_a_lista = list(zip(lista1, lista2, lista3))\n",
        "print(zip_a_lista)"
      ],
      "metadata": {
        "colab": {
          "base_uri": "https://localhost:8080/"
        },
        "id": "dC9KZ_PfP7AQ",
        "outputId": "0f2f5950-5c64-4688-cdc5-546ff125dca1"
      },
      "execution_count": null,
      "outputs": [
        {
          "output_type": "stream",
          "name": "stdout",
          "text": [
            "<zip object at 0x7c818390f100>\n",
            "[(1, 'a', 100), (2, 'b', 200), (3, 'c', 300)]\n"
          ]
        }
      ]
    },
    {
      "cell_type": "code",
      "source": [
        "lista1 = [1,2,3,4,5,6,7]\n",
        "lista2 = [\"a\", \"b\", \"c\"]\n",
        "lista3 = [100,200,300]\n",
        "\n",
        "if \"a\" in lista2:\n",
        "  print(True)"
      ],
      "metadata": {
        "colab": {
          "base_uri": "https://localhost:8080/"
        },
        "id": "8V8ui3BRQmpj",
        "outputId": "0dae6186-f3d0-4dcc-c0a0-e92725451678"
      },
      "execution_count": null,
      "outputs": [
        {
          "output_type": "stream",
          "name": "stdout",
          "text": [
            "True\n"
          ]
        }
      ]
    },
    {
      "cell_type": "code",
      "source": [
        "#minimos y maximos de una lista\n",
        "print(min(lista1))\n",
        "print(max(lista1))"
      ],
      "metadata": {
        "colab": {
          "base_uri": "https://localhost:8080/"
        },
        "id": "bVzI4P_HQ9iS",
        "outputId": "9d4a0342-2c1d-481d-ae31-227f5d1246ec"
      },
      "execution_count": null,
      "outputs": [
        {
          "output_type": "stream",
          "name": "stdout",
          "text": [
            "1\n",
            "7\n"
          ]
        }
      ]
    },
    {
      "cell_type": "code",
      "source": [
        "#importa un paquete (shuffle) del modulo random para desordenar los valores de una lista\n",
        "from random import shuffle\n",
        "shuffle(lista1)\n",
        "print(lista1)"
      ],
      "metadata": {
        "colab": {
          "base_uri": "https://localhost:8080/"
        },
        "id": "SaVEoM3yRAIY",
        "outputId": "63af8625-702b-4a55-b179-61d140ae076e"
      },
      "execution_count": null,
      "outputs": [
        {
          "output_type": "stream",
          "name": "stdout",
          "text": [
            "[5, 1, 6, 2, 3, 4, 7]\n"
          ]
        }
      ]
    },
    {
      "cell_type": "code",
      "source": [
        "#Shuffle desordena los valores o los indices?\n",
        "lista1 = [1,2,3,4,5,6,7]\n",
        "print(f\"mi lista inicial es: {lista1}\")\n",
        "print(f\"El indice del numero 1 es: {lista1.index(1)}\")\n",
        "shuffle(lista1)\n",
        "print(f\"mi lista shuffled es: {lista1}\")\n",
        "print(f\"El indice del numero 1 es: {lista1.index(1)}\")\n",
        "#reordena los valores asignadoles un nuevo indice\n",
        "print(shuffle(lista1))"
      ],
      "metadata": {
        "colab": {
          "base_uri": "https://localhost:8080/"
        },
        "id": "vxS1592PRrH0",
        "outputId": "61d25367-61fc-4448-cd1e-5be7ea00fa1e"
      },
      "execution_count": null,
      "outputs": [
        {
          "output_type": "stream",
          "name": "stdout",
          "text": [
            "mi lista inicial es: [1, 2, 3, 4, 5, 6, 7]\n",
            "El indice del numero 1 es: 0\n",
            "mi lista shuffled es: [1, 7, 2, 4, 5, 3, 6]\n",
            "El indice del numero 1 es: 0\n",
            "None\n"
          ]
        }
      ]
    },
    {
      "cell_type": "code",
      "source": [
        "#numero random\n",
        "from random import randint\n",
        "randint(0,100)"
      ],
      "metadata": {
        "colab": {
          "base_uri": "https://localhost:8080/"
        },
        "id": "7cCKdPhdS_nX",
        "outputId": "9ab12238-a98f-4518-b693-6c4017d7f5da"
      },
      "execution_count": null,
      "outputs": [
        {
          "output_type": "execute_result",
          "data": {
            "text/plain": [
              "76"
            ]
          },
          "metadata": {},
          "execution_count": 191
        }
      ]
    },
    {
      "cell_type": "code",
      "source": [
        "x = input(\"Escribe un número\")\n",
        "print(type(x))\n",
        "#todo elemento ingresado en input es un string\n",
        "x_a_numero = int(x)#cambia el valor ingresado a int\n",
        "print(x_a_numero)\n",
        "print(type(x_a_numero))"
      ],
      "metadata": {
        "colab": {
          "base_uri": "https://localhost:8080/"
        },
        "id": "3RdXDwx2TiHg",
        "outputId": "c478f5fd-9276-4ba0-f66c-a783b8ae98e2"
      },
      "execution_count": null,
      "outputs": [
        {
          "output_type": "stream",
          "name": "stdout",
          "text": [
            "Escribe un número10\n",
            "<class 'str'>\n",
            "10\n",
            "<class 'int'>\n"
          ]
        }
      ]
    },
    {
      "cell_type": "markdown",
      "source": [
        "#COMPREHENSION DE LISTAS\n",
        "\n",
        "1. Crear listas rapidamente, si encuentras un ciclo for con .append() para crear una lista, puedes usar comprehension en su lugar\n",
        "\n"
      ],
      "metadata": {
        "id": "g2eKjtSjUJmJ"
      }
    },
    {
      "cell_type": "code",
      "source": [
        "mi_cadena =\"hola\"\n",
        "mi_lista =[]#nueva lista vacia\n",
        "\n",
        "for i in mi_cadena:#por cada i(elemento de mi_cadena)\n",
        "  mi_lista.append(i) #agrega a mi_lista cada valor i\n",
        "\n",
        "print(mi_lista)"
      ],
      "metadata": {
        "colab": {
          "base_uri": "https://localhost:8080/"
        },
        "id": "2Ljl_vXNUJgh",
        "outputId": "6757be58-0f9e-4513-dc6f-831e1c3a8de3"
      },
      "execution_count": null,
      "outputs": [
        {
          "output_type": "stream",
          "name": "stdout",
          "text": [
            "['h', 'o', 'l', 'a']\n"
          ]
        }
      ]
    },
    {
      "cell_type": "code",
      "source": [
        "mi_lista = [x**2 for x in range(0,11)]\n",
        "print(mi_lista)"
      ],
      "metadata": {
        "colab": {
          "base_uri": "https://localhost:8080/"
        },
        "id": "zPyq_x8FWshI",
        "outputId": "5f83c008-478a-4bb9-a318-a08638cb7c1f"
      },
      "execution_count": null,
      "outputs": [
        {
          "output_type": "stream",
          "name": "stdout",
          "text": [
            "[0, 1, 4, 9, 16, 25, 36, 49, 64, 81, 100]\n"
          ]
        }
      ]
    },
    {
      "cell_type": "code",
      "source": [
        "# CICLO FOR PARA CAMBIAR LA ESCALA Cº a Fº\n",
        "celcius = [0,10,20,34.6]\n",
        "fahrenheit =[]\n",
        "for i in celcius:\n",
        "  fahrenheit.append(((9/5)*i +32))\n",
        "print(fahrenheit)"
      ],
      "metadata": {
        "colab": {
          "base_uri": "https://localhost:8080/"
        },
        "id": "_fwOq93VXV9h",
        "outputId": "7aafc31c-c94a-461e-af21-183d821b25c0"
      },
      "execution_count": null,
      "outputs": [
        {
          "output_type": "stream",
          "name": "stdout",
          "text": [
            "[32.0, 50.0, 68.0, 94.28]\n"
          ]
        }
      ]
    },
    {
      "cell_type": "code",
      "source": [
        "#ejemplo: conversion rapida de Cº a Fº\n",
        "celcius = [0,10,20,34.6]\n",
        "fahrenheit = [((9/5)*i +32) for i in celcius]\n",
        "print(fahrenheit)"
      ],
      "metadata": {
        "colab": {
          "base_uri": "https://localhost:8080/"
        },
        "id": "7anLA-dXW2vH",
        "outputId": "025a2831-8b5d-43cb-dcaa-5ed1277d32c7"
      },
      "execution_count": null,
      "outputs": [
        {
          "output_type": "stream",
          "name": "stdout",
          "text": [
            "[32.0, 50.0, 68.0, 94.28]\n"
          ]
        }
      ]
    },
    {
      "cell_type": "markdown",
      "source": [
        "#METODOS PYTHON\n",
        "[Dcomentacion python](https://docs.python.org/es/3/contents.html)"
      ],
      "metadata": {
        "id": "TQwLnHVhX5DO"
      }
    },
    {
      "cell_type": "markdown",
      "source": [
        "#FUNCIONES\n"
      ],
      "metadata": {
        "id": "5ZH1pbNgZOTl"
      }
    },
    {
      "cell_type": "code",
      "source": [
        "#Sintaxis\n",
        "def nombre_de_funcion(input):\n",
        "  #Ejecutar este codigo\n",
        "  return #nos permite asignar un output a la funcion"
      ],
      "metadata": {
        "id": "RnKQmmMYZNSa"
      },
      "execution_count": null,
      "outputs": []
    },
    {
      "cell_type": "code",
      "source": [
        "#funcion de suma\n",
        "def suma(num1, num2):\n",
        "  return num1 + num2"
      ],
      "metadata": {
        "id": "R2CuIEymZem4"
      },
      "execution_count": null,
      "outputs": []
    },
    {
      "cell_type": "code",
      "source": [
        "#ejemplo\n",
        "\n",
        "def decir_hola(nombre,apellido):\n",
        "  print(f\"hola, {nombre} {apellido}\")\n",
        "\n",
        "decir_hola(\"Alejandro\", \"Rojas\")"
      ],
      "metadata": {
        "colab": {
          "base_uri": "https://localhost:8080/"
        },
        "id": "cQwzlIw-bMGb",
        "outputId": "96eaf6bf-1f7f-4919-bd0b-eaac3fefff13"
      },
      "execution_count": null,
      "outputs": [
        {
          "output_type": "stream",
          "name": "stdout",
          "text": [
            "hola, Alejandro Rojas\n"
          ]
        }
      ]
    },
    {
      "cell_type": "code",
      "source": [
        "#revisar numero par en lista\n",
        "\n",
        "def es_numero_par(lista):\n",
        "  for i in lista:\n",
        "    if i % 2 == 0:\n",
        "      return True\n",
        "    else:\n",
        "      pass\n",
        "  return False\n",
        "\n",
        "\n",
        "es_numero_par([1,3,5])"
      ],
      "metadata": {
        "colab": {
          "base_uri": "https://localhost:8080/"
        },
        "id": "YeJeQXlIcQNK",
        "outputId": "e45e42be-6497-4c23-ead7-e54cf851251f"
      },
      "execution_count": null,
      "outputs": [
        {
          "output_type": "execute_result",
          "data": {
            "text/plain": [
              "False"
            ]
          },
          "metadata": {},
          "execution_count": 215
        }
      ]
    },
    {
      "cell_type": "markdown",
      "source": [
        "## Argumentos de las funciones : ARGS y KWARGS\n",
        "\n",
        "\n",
        "1.   Arguments y Keyword Arguments (Argumentos y argumentos clave)\n",
        "\n",
        "*   Son palabras Clave que se usan dentro de una funcion para recoger un valor\n",
        "\n",
        "\n",
        "\n"
      ],
      "metadata": {
        "id": "NAKw70wRdaz8"
      }
    },
    {
      "cell_type": "code",
      "source": [
        "def func(a,b):#a,b son keywords argumentos posicionales, por que se encuentran en la posicion 0 y 1\n",
        "  #retornar la suma de a y b\n",
        "  return sum(a,b)\n"
      ],
      "metadata": {
        "id": "YG8l2gcSdsAk"
      },
      "execution_count": null,
      "outputs": []
    },
    {
      "cell_type": "code",
      "source": [
        "# prompt: crea una funcion que devuelva el 5% de la suma de dos elementos a y b y numero de porcentaje\n",
        "\n",
        "def calculate_percentage(a, b, percentage):\n",
        "  sum = a + b\n",
        "  return (sum * percentage) / 100\n",
        "\n",
        "calculate_percentage(45, 32.2, 10)#parametros posicionales (se asignan direcamente a la funcion)"
      ],
      "metadata": {
        "colab": {
          "base_uri": "https://localhost:8080/"
        },
        "id": "Lvk9zqKul4gj",
        "outputId": "ac7172a6-c518-464e-968f-b963a71a1d1e"
      },
      "execution_count": null,
      "outputs": [
        {
          "output_type": "execute_result",
          "data": {
            "text/plain": [
              "7.72"
            ]
          },
          "metadata": {},
          "execution_count": 225
        }
      ]
    },
    {
      "cell_type": "code",
      "source": [
        " #funcion sin limite de arguementos *args\n",
        "def func (*args):#los *args son una tupla (lista de elementos inmutables)\n",
        "  return print(sum(args) * 0.05)\n",
        "\n",
        "func(20,10,63,52,84,654,32)"
      ],
      "metadata": {
        "colab": {
          "base_uri": "https://localhost:8080/"
        },
        "id": "6fL5Bv6imndd",
        "outputId": "97aced94-4395-431c-c5e4-7dd4527f47a4"
      },
      "execution_count": null,
      "outputs": [
        {
          "output_type": "stream",
          "name": "stdout",
          "text": [
            "45.75\n"
          ]
        }
      ]
    },
    {
      "cell_type": "code",
      "source": [
        "#**args\n",
        "def func(**kwargs): #los **args son un diccionario (pares valor iterables)\n",
        "  if 'fruta' in kwargs:#toma el strin \"fruta\" como llave del diccionario para buscar ese valor\n",
        "  #como puedo hacer que evalue cualquier valor y no solo una llave asignada?\n",
        "    print(f\"mi fruta escogida es {kwargs['fruta']}\")\n",
        "  else:\n",
        "    print(f\"no hay fruta, pero hay {kwargs['almuerzo']}\")\n",
        "\n",
        "#no entiendo por que usa un string para el IF"
      ],
      "metadata": {
        "id": "YDRQYZbRnJF7"
      },
      "execution_count": null,
      "outputs": []
    },
    {
      "cell_type": "code",
      "source": [
        "func(bebida='gaseosa', vegetal =\"lechuga\", almuerzo =\"sopa\")"
      ],
      "metadata": {
        "colab": {
          "base_uri": "https://localhost:8080/"
        },
        "id": "uCUUD9AVovgv",
        "outputId": "b7de31ed-eb6e-4e79-9bf1-69701379aeef"
      },
      "execution_count": null,
      "outputs": [
        {
          "output_type": "stream",
          "name": "stdout",
          "text": [
            "no hay fruta, pero hay sopa\n"
          ]
        }
      ]
    },
    {
      "cell_type": "code",
      "source": [
        "# *args y **kwargs juntos\n",
        "\n",
        "def func (*args, **kwargs):\n",
        "  print(args)\n",
        "  print(kwargs)\n",
        "  print(f\"Me gustaria {args[0]}, {kwargs['comida']}\")\n",
        "\n",
        "func(10,20,30, fruta=\"naranja\", comida =\"pan\", animal=\"perro\")"
      ],
      "metadata": {
        "colab": {
          "base_uri": "https://localhost:8080/"
        },
        "id": "Y_62a_rzqxjj",
        "outputId": "84158db9-4537-4283-9e3c-0dfc222cd1b5"
      },
      "execution_count": null,
      "outputs": [
        {
          "output_type": "stream",
          "name": "stdout",
          "text": [
            "(10, 20, 30)\n",
            "{'fruta': 'naranja', 'comida': 'pan', 'animal': 'perro'}\n",
            "Me gustaria 10, pan\n"
          ]
        }
      ]
    },
    {
      "cell_type": "markdown",
      "source": [
        "#EXPRESIONES LAMBDA, MAPAS Y FILTROS"
      ],
      "metadata": {
        "id": "T0mXZJ15vKg8"
      }
    },
    {
      "cell_type": "markdown",
      "source": [
        "##mapas"
      ],
      "metadata": {
        "id": "HQHbfcKz2j5q"
      }
    },
    {
      "cell_type": "code",
      "source": [
        "#funcion mapa\n",
        "#util cuando quieres llenar una funcion con una lista , tuplas o diccionarios) de datos\n",
        "\n",
        "numeros= [1,2,3,4,5]\n",
        "#funcion que devuelve la potencia al cuadrado del input\n",
        "def square(num):\n",
        "  resultado =num**2\n",
        "  return resultado\n",
        "\n",
        "#como pasar los numeros de la lista \"numeros\" a la funcion square\n",
        "for i in map(square, numeros):\n",
        "  print (i)"
      ],
      "metadata": {
        "colab": {
          "base_uri": "https://localhost:8080/"
        },
        "id": "VQaQpAR4v3oI",
        "outputId": "1353cf21-c9db-4344-f57d-8f19a7a9094b"
      },
      "execution_count": null,
      "outputs": [
        {
          "output_type": "stream",
          "name": "stdout",
          "text": [
            "1\n",
            "4\n",
            "9\n",
            "16\n",
            "25\n"
          ]
        }
      ]
    },
    {
      "cell_type": "code",
      "source": [
        "#cual es el tipo de map?\n",
        "print (type(map(square, numeros)))"
      ],
      "metadata": {
        "colab": {
          "base_uri": "https://localhost:8080/"
        },
        "id": "1Ls6Hnr31a8O",
        "outputId": "8ca528d6-090f-4387-878f-05e236c54b55"
      },
      "execution_count": null,
      "outputs": [
        {
          "output_type": "stream",
          "name": "stdout",
          "text": [
            "<class 'map'>\n"
          ]
        }
      ]
    },
    {
      "cell_type": "code",
      "source": [
        "#obtener el resultado en una lista\n",
        "print (list(map(square, numeros)))"
      ],
      "metadata": {
        "colab": {
          "base_uri": "https://localhost:8080/"
        },
        "id": "Hm9NDTkC1ShV",
        "outputId": "80668a94-6605-494f-da5f-320d4a9e31f7"
      },
      "execution_count": null,
      "outputs": [
        {
          "output_type": "stream",
          "name": "stdout",
          "text": [
            "[1, 4, 9, 16, 25]\n"
          ]
        }
      ]
    },
    {
      "cell_type": "code",
      "source": [
        "#comprehension de lista en vez de map\n",
        "lista_al_cuadrado = [square(x) for x in numeros]\n",
        "print(lista_al_cuadrado)"
      ],
      "metadata": {
        "colab": {
          "base_uri": "https://localhost:8080/"
        },
        "id": "7nfR7nMc197m",
        "outputId": "c290dcf8-74a0-4939-898f-99237adf6a8f"
      },
      "execution_count": null,
      "outputs": [
        {
          "output_type": "stream",
          "name": "stdout",
          "text": [
            "[1, 4, 9, 16, 25]\n"
          ]
        }
      ]
    },
    {
      "cell_type": "markdown",
      "source": [
        "## Filtros"
      ],
      "metadata": {
        "id": "M_0Ykf9x2mgX"
      }
    },
    {
      "cell_type": "code",
      "source": [
        "numeros= [1,2,3,4,5,6,7,8,9]\n",
        "\n",
        "def es_par(num):\n",
        "  return num%2==0\n",
        "\n",
        "for i in filter(es_par,numeros):\n",
        "  print(i)"
      ],
      "metadata": {
        "colab": {
          "base_uri": "https://localhost:8080/"
        },
        "id": "VndAAoQ_2n40",
        "outputId": "53a102c7-6da4-4f65-b07e-defaef6a72f4"
      },
      "execution_count": null,
      "outputs": [
        {
          "output_type": "stream",
          "name": "stdout",
          "text": [
            "2\n",
            "4\n",
            "6\n",
            "8\n"
          ]
        }
      ]
    },
    {
      "cell_type": "code",
      "source": [
        "numeros_pares = [es_par(i) for i in numeros]\n",
        "print(numeros_pares)\n",
        "#Como puedo obtener solo los valores pares en una lista?"
      ],
      "metadata": {
        "colab": {
          "base_uri": "https://localhost:8080/"
        },
        "id": "cVIY2OoD3JC8",
        "outputId": "7df503d4-a222-463b-a264-9c2dae337422"
      },
      "execution_count": null,
      "outputs": [
        {
          "output_type": "stream",
          "name": "stdout",
          "text": [
            "[False, True, False, True, False, True, False, True, False]\n"
          ]
        }
      ]
    },
    {
      "cell_type": "markdown",
      "source": [
        "##LAMBDA"
      ],
      "metadata": {
        "id": "ec9ilsmS32q3"
      }
    },
    {
      "cell_type": "code",
      "source": [
        "numeros= [1,2,3,4,5,6,7,8,9]\n",
        "# lambda variable: funcion(que se retorna a si misma?)\n",
        "al_cuadrado = lambda num: num**2\n",
        "\n",
        "print(al_cuadrado(5))\n",
        "#lambda con map\n",
        "print(list(map(lambda num: num ** 2, numeros)))"
      ],
      "metadata": {
        "colab": {
          "base_uri": "https://localhost:8080/"
        },
        "id": "s_qeF3Iz34Rt",
        "outputId": "62a1eb36-7048-4fec-b955-bfc7502cab0f"
      },
      "execution_count": null,
      "outputs": [
        {
          "output_type": "stream",
          "name": "stdout",
          "text": [
            "25\n",
            "[1, 4, 9, 16, 25, 36, 49, 64, 81]\n"
          ]
        }
      ]
    },
    {
      "cell_type": "code",
      "source": [
        "#lambbda con filter\n",
        "numeros= [1,2,3,4,5,6,7,8,9]\n",
        "print(list(filter(lambda num: num %2==0, numeros)))"
      ],
      "metadata": {
        "colab": {
          "base_uri": "https://localhost:8080/"
        },
        "id": "Azu9n16H4r_t",
        "outputId": "445c4e07-51eb-4e0c-a9e4-5bb2223aba0a"
      },
      "execution_count": null,
      "outputs": [
        {
          "output_type": "stream",
          "name": "stdout",
          "text": [
            "[2, 4, 6, 8]\n"
          ]
        }
      ]
    },
    {
      "cell_type": "markdown",
      "source": [
        "#Funciones anidadas"
      ],
      "metadata": {
        "id": "_NU5WwQ27m77"
      }
    },
    {
      "cell_type": "code",
      "source": [
        "name = \"variable global\"#las variables fuera de la funcion son globales(pueden usarse en cualquier funcion)\n",
        "def saludo():\n",
        "  #enclosing variable , se encuentra entre dos funciones anidadas\n",
        "  name = \"alejandro josephat\"\n",
        "\n",
        "  def hola():\n",
        "    #local\n",
        "    name = \"variable local\"\n",
        "    print(f\"hola {name}\")\n",
        "\n",
        "  hola()\n",
        "\n",
        "\n",
        "saludo()"
      ],
      "metadata": {
        "colab": {
          "base_uri": "https://localhost:8080/"
        },
        "id": "Ng6p04gw7mYN",
        "outputId": "103e216a-111d-4360-c3f1-eeef4f2eae69"
      },
      "execution_count": null,
      "outputs": [
        {
          "output_type": "stream",
          "name": "stdout",
          "text": [
            "hola variable local\n"
          ]
        }
      ]
    },
    {
      "cell_type": "code",
      "source": [
        "#asignar variables3\n",
        "x=50\n",
        "\n",
        "def func():\n",
        "  print(f'x es {x}')\n",
        "\n",
        "func()"
      ],
      "metadata": {
        "colab": {
          "base_uri": "https://localhost:8080/"
        },
        "id": "RCS4VG2Y8sP9",
        "outputId": "196d13a0-ced3-4b0b-96d1-362e8870dac5"
      },
      "execution_count": null,
      "outputs": [
        {
          "output_type": "stream",
          "name": "stdout",
          "text": [
            "x es 50\n"
          ]
        }
      ]
    },
    {
      "cell_type": "code",
      "source": [
        "#reasignacion local\n",
        "x=50\n",
        "\n",
        "def func(x):\n",
        "  #reasignar variable\n",
        "  x=200\n",
        "  print(f'x fue cambiadad localmente a {x}')\n",
        "\n",
        "func(x)\n"
      ],
      "metadata": {
        "colab": {
          "base_uri": "https://localhost:8080/"
        },
        "id": "hSoAV40I843j",
        "outputId": "757e1c05-8c2b-4c30-8d27-98551b322b6d"
      },
      "execution_count": null,
      "outputs": [
        {
          "output_type": "stream",
          "name": "stdout",
          "text": [
            "x fue cambiadad localmente a 200\n"
          ]
        }
      ]
    },
    {
      "cell_type": "code",
      "source": [
        "#re asignar variable global\n",
        "x=50\n",
        "\n",
        "def func():\n",
        "  #elegir la variable global\n",
        "  global x\n",
        "  print(f\"x es {x}\")\n",
        "  x=\"Nuevo valor\"\n",
        "  print(f'x fue cambiadad localmente a {x}')\n",
        "\n",
        "func()\n",
        "print(f\"el nuevo valor global de x es: {x}\")"
      ],
      "metadata": {
        "colab": {
          "base_uri": "https://localhost:8080/"
        },
        "id": "GQF4Tvu59R0F",
        "outputId": "b1926771-f176-4df6-f4ce-dbc9149b1d8c"
      },
      "execution_count": null,
      "outputs": [
        {
          "output_type": "stream",
          "name": "stdout",
          "text": [
            "x es 50\n",
            "x fue cambiadad localmente a Nuevo valor\n",
            "el nuevo valor global de x es: Nuevo valor\n"
          ]
        }
      ]
    },
    {
      "cell_type": "markdown",
      "source": [
        "#Programacion orientada a objetos\n",
        "\n",
        "La programación orientada a objetos (POO) en Python es un paradigma de programación que utiliza objetos para representar entidades del mundo real.\n",
        "\n",
        "Cada objeto tiene atributos (datos o caracteristicas) y métodos (funciones acciones) que operan sobre esos datos.\n",
        "\n",
        "Los objetos se organizan en clases, que definen la estructura y el comportamiento de los objetos.\n",
        "\n",
        "La POO en Python se basa en los siguientes principios:\n",
        "\n",
        "*   Encapsulamiento: Los datos y los métodos de un objeto están encapsulados dentro\n",
        "del objeto, lo que significa que solo se puede acceder a ellos desde dentro del objeto.\n",
        "*   Herencia: Las clases pueden heredar de otras clases, lo que significa que pueden reutilizar el código y los datos de las clases principales.\n",
        "*   Polimorfismo: Los objetos de diferentes clases pueden responder a los mismos mensajes de diferentes maneras.\n",
        "\n"
      ],
      "metadata": {
        "id": "bAcYL80Y_qBv"
      }
    },
    {
      "cell_type": "code",
      "source": [
        "#sintaxis\n",
        "class NombreDeClase():\n",
        "  def __init__(self,param1,param2):#crear funcion init, que inicia todos los parametros de la clase\n",
        "    self.param1 = param1\n",
        "    self.param2 = param2\n",
        "\n",
        "  def otraFuncion(self):\n",
        "    #accion\n",
        "    print(self.param1)"
      ],
      "metadata": {
        "id": "KNIPrUKu_tNB"
      },
      "execution_count": null,
      "outputs": []
    },
    {
      "cell_type": "code",
      "source": [
        "class Perro():\n",
        "\n",
        "  def __init__(self,raza,nombre,puntos):\n",
        "\n",
        "    #atributos\n",
        "    self.raza = raza\n",
        "    self.nombre = nombre\n",
        "    #esperamos un valor booleano V/F\n",
        "    self.puntos = puntos\n",
        "\n",
        "huskie = Perro(raza=\"Huskie\",nombre=\"Jake\",puntos=False)"
      ],
      "metadata": {
        "id": "b41bgbbSRhP7"
      },
      "execution_count": null,
      "outputs": []
    },
    {
      "cell_type": "code",
      "source": [
        "#llamando los atributos del objeto\n",
        "huskie.nombre\n",
        "huskie.raza\n",
        "huskie.puntos"
      ],
      "metadata": {
        "colab": {
          "base_uri": "https://localhost:8080/"
        },
        "id": "ae386z5nTz0Q",
        "outputId": "978f8fc5-2192-4b8e-dda5-078ad52abc9d"
      },
      "execution_count": null,
      "outputs": [
        {
          "output_type": "execute_result",
          "data": {
            "text/plain": [
              "False"
            ]
          },
          "metadata": {},
          "execution_count": 11
        }
      ]
    },
    {
      "cell_type": "markdown",
      "source": [
        "##Polimorfismo\n",
        "\n",
        "*   El polimorfismo en Python es la capacidad de que diferentes objetos respondan al mismo mensaje de diferentes maneras. Esto se logra mediante el uso de métodos con el mismo nombre pero con diferentes implementaciones en diferentes clases.\n",
        "\n"
      ],
      "metadata": {
        "id": "0zXAVndRU5Z6"
      }
    },
    {
      "cell_type": "code",
      "source": [
        "#ejemplo\n",
        "#La clase animal tiene el metodo hablar con pass\n",
        "class Animal:\n",
        "  def hablar(self):\n",
        "    pass\n",
        "\n",
        "#se 'hereda' el atributo de la clase animal mediante:\n",
        "#class ClaseHija(ClasePadre1, ClasePadre2, ..., ClasePadreN):\n",
        "\n",
        "class Perro(Animal):\n",
        "  def hablar(self):\n",
        "    print(\"Guau!\")\n",
        "\n",
        "class Gato(Animal):\n",
        "  def hablar(self):\n",
        "    print(\"Miau!\")"
      ],
      "metadata": {
        "id": "8RmUy8TMU4Sd"
      },
      "execution_count": null,
      "outputs": []
    },
    {
      "cell_type": "code",
      "source": [
        "class Animal():\n",
        "\n",
        "  def __init__(self):\n",
        "    print(\"animal creado\")\n",
        "\n",
        "  def quien_soy(self):\n",
        "    print(\"soy un animal\")\n",
        "\n",
        "  def comer(self):\n",
        "    print(\"estoy comiendo\")\n",
        "\n",
        "\n",
        "class Perro(Animal):\n",
        "\n",
        "  def __init__(self):\n",
        "    Animal.__init__(self)\n",
        "    print(\"perro creado\")\n",
        "\n",
        "  def quien_soy(self):\n",
        "    print(\"soy un perro\")\n",
        "\n"
      ],
      "metadata": {
        "id": "_T742zXPYMVb"
      },
      "execution_count": null,
      "outputs": []
    },
    {
      "cell_type": "code",
      "source": [
        "miPerro = Perro()\n",
        "miPerro.quien_soy()"
      ],
      "metadata": {
        "id": "sZR7tZxaZKad",
        "outputId": "8262818a-ea62-4538-bdb8-839227b01fa0",
        "colab": {
          "base_uri": "https://localhost:8080/"
        }
      },
      "execution_count": null,
      "outputs": [
        {
          "output_type": "stream",
          "name": "stdout",
          "text": [
            "animal creado\n",
            "perro creado\n",
            "soy un perro\n"
          ]
        }
      ]
    },
    {
      "cell_type": "code",
      "source": [
        "#crear modulo y probar try\n",
        "try:\n",
        "  from classes import Animal, Perro # classes en otro archivo .py\n",
        "except :\n",
        "  print(\"bye bye\")"
      ],
      "metadata": {
        "colab": {
          "base_uri": "https://localhost:8080/"
        },
        "id": "7JL6ZgY5aZ1b",
        "outputId": "69d48338-5cbc-4ba6-a59b-53a4ed0ce73c"
      },
      "execution_count": null,
      "outputs": [
        {
          "output_type": "stream",
          "name": "stdout",
          "text": [
            "bye bye\n"
          ]
        }
      ]
    },
    {
      "cell_type": "markdown",
      "source": [
        "## POO**2"
      ],
      "metadata": {
        "id": "juIftNkd0DS0"
      }
    },
    {
      "cell_type": "markdown",
      "source": [
        "### Classes e instancias\n",
        "Crear clases, instanciarlas(crear el objeto) y asignar instance variables (variables propias de cada instancia) al objeto *creado*"
      ],
      "metadata": {
        "id": "A1YlLVc-0LnR"
      }
    },
    {
      "cell_type": "markdown",
      "source": [
        "#### Que es una instancia y como se crea"
      ],
      "metadata": {
        "id": "9qp0KCXhO7Z8"
      }
    },
    {
      "cell_type": "code",
      "source": [
        "#crear una clase que \"instancie\" a un objeto empleado\n",
        "class Employee: #clase sin metodos ni atributos\n",
        "  pass\n",
        "#se instancian dos objetos empleado nuevos, emp1 y emp2\n",
        "emp_1 = Employee()\n",
        "emp_2 = Employee()\n",
        "\n",
        "print(emp_1)\n",
        "print(emp_2)\n",
        "\n",
        "#Las variables de cada instancia  contienen datos vinculados a esa instancia\n",
        "emp_1.first =\"Ale\"\n",
        "emp_1.last  =\"Rojas\"\n",
        "emp_1.email  =\"a.en51@gmail.com\"\n",
        "emp_1.pay  = 50000\n",
        "\n",
        "emp_2.first =\"Josephat\"\n",
        "emp_2.last  =\"nuñez\"\n",
        "emp_2.email  =\"josephat.en51@gmail.com\"\n",
        "emp_2.pay  = 55000\n",
        "\n",
        "print(emp_1.email)\n",
        "print(emp_2.pay)\n",
        "\n",
        "#Repetir este proceso para cada empleado es ineficiente\n",
        "#Por lo que usaremos el metodo __init__ que permite inicializar(permitir asignar) variables\n",
        "#de la clase para los nuevos objetos creados.\n",
        "\n"
      ],
      "metadata": {
        "colab": {
          "base_uri": "https://localhost:8080/"
        },
        "id": "yXspSzDl0CPh",
        "outputId": "defb0e3b-c224-413a-fa3a-d43a5b381f73"
      },
      "execution_count": null,
      "outputs": [
        {
          "output_type": "stream",
          "name": "stdout",
          "text": [
            "<__main__.Employee object at 0x7ad9d69f5060>\n",
            "<__main__.Employee object at 0x7ad9d69f4a90>\n",
            "a.en51@gmail.com\n",
            "55000\n"
          ]
        }
      ]
    },
    {
      "cell_type": "code",
      "source": [
        "class Empleado:\n",
        "  #__init__ me permite inicializar la instancia, la cual recibe self como parametro\n",
        "  #para identificar la instancia donde se asignaran las variables\n",
        "  #self es la misma instancia que se usara para inicializar los atributos\n",
        "  #es decir, hará referencia a la misma instancia donde se ejecute el metodo, dichos pasos\n",
        "  #sucederan cuando se instancie un nuevo objeto de clase.\n",
        "  def __init__(self,first,last,pay):\n",
        "    #asignamos el valor del argumento a la variable de instancia SELF\n",
        "    self.first = first #self(la instancia).primer(nombramos al atributo para llamarlo)\n",
        "    self.last = last\n",
        "    self.pay = pay\n",
        "    self.email = first + \".\" + last + \"@company.com\"\n",
        "\n",
        "emp_1 = Empleado(first=\"Ale\", last = \"Rojas\", pay = 12000)\n",
        "emp_2 = Empleado(first=\"Josephat\", last = \"nuñez\", pay = 55000)\n",
        "\n",
        "print(emp_1.first)\n",
        "print(emp_2.first)"
      ],
      "metadata": {
        "colab": {
          "base_uri": "https://localhost:8080/"
        },
        "id": "2wsjF8xR1QXI",
        "outputId": "64750f0c-c1d5-43a8-f219-0201c5e5960f"
      },
      "execution_count": null,
      "outputs": [
        {
          "output_type": "stream",
          "name": "stdout",
          "text": [
            "Ale\n",
            "Josephat\n"
          ]
        }
      ]
    },
    {
      "cell_type": "markdown",
      "source": [
        "####Como se agregan los metodos a una clase"
      ],
      "metadata": {
        "id": "CbCyQgGnPERk"
      }
    },
    {
      "cell_type": "markdown",
      "source": [
        "ahora que tenemos objetos con atributos, queremos añadir acciones al objeto\n",
        "eso se hace creado funciones que realicen una accion dentro de la clase"
      ],
      "metadata": {
        "id": "qJryJARA-Ew_"
      }
    },
    {
      "cell_type": "code",
      "source": [
        "#podemos crear una funcion que ejecute una accion fuera de la clase\n",
        "#accion de presentarse\n",
        "print(f\"Hola mi nombre es: {emp_1.first} {emp_1.last}\")\n",
        "#por eficiencia queremos que el objeto de la clase pueda ejecutar la accion de manera inherente\n",
        "#por lo que la crearemos dentro de la clase"
      ],
      "metadata": {
        "colab": {
          "base_uri": "https://localhost:8080/"
        },
        "id": "3bIjq3oi88W8",
        "outputId": "77d043fb-3c1c-4e04-9f71-077208c4c348"
      },
      "execution_count": null,
      "outputs": [
        {
          "output_type": "stream",
          "name": "stdout",
          "text": [
            "Hola mi nombre es: Ale Rojas\n"
          ]
        }
      ]
    },
    {
      "cell_type": "code",
      "source": [
        "class Empleado:\n",
        "\n",
        "  def __init__(self,first,last,pay):\n",
        "    #asignamos el valor del argumento a la variable de instancia SELF\n",
        "    self.first = first\n",
        "    self.last = last\n",
        "    self.pay = pay\n",
        "    self.email = first + \".\" + last + \"@company.com\"\n",
        "\n",
        "\n",
        "  def presentarse(self):#\n",
        "    return f\"Hola mi nombre es: {self.first} {self.last}\"\n",
        "\n",
        "emp_1 = Empleado(first=\"Ale\", last = \"Rojas\", pay = 12000)\n",
        "emp_2 = Empleado(first=\"Josephat\", last = \"nuñez\", pay = 55000)\n",
        "#ahora la instancia puede realizar una accion haciendo uso del metodo de la clase\n",
        "emp_2.presentarse()"
      ],
      "metadata": {
        "colab": {
          "base_uri": "https://localhost:8080/"
        },
        "id": "eClQs6BAAS7h",
        "outputId": "ef34f38f-c2c7-443f-e47b-f92816e9772f"
      },
      "execution_count": null,
      "outputs": [
        {
          "output_type": "execute_result",
          "data": {
            "text/plain": [
              "str"
            ]
          },
          "metadata": {},
          "execution_count": 42
        }
      ]
    },
    {
      "cell_type": "markdown",
      "source": [
        "### Variables de Clase (class variables)\n",
        "Son clases que se comparten entre todas las instancias de la clase"
      ],
      "metadata": {
        "id": "ZuerfqiADIIs"
      }
    },
    {
      "cell_type": "code",
      "source": [
        "#asignaremos un nuevo metodo, que nos permite otorgar aumentos salariales a los empleados\n",
        "class Empleado:\n",
        "\n",
        "  def __init__(self,first,last,pay):\n",
        "    #asignamos el valor del argumento a la variable de instancia SELF\n",
        "    self.first = first\n",
        "    self.last = last\n",
        "    self.pay = pay\n",
        "    self.email = first + \".\" + last + \"@company.com\"\n",
        "\n",
        "\n",
        "  def presentarse(self):#\n",
        "    return f\"Hola mi nombre es: {self.first} {self.last}\"\n",
        "\n",
        "  def aumentar_salario(self):\n",
        "    self.pay = int(self.pay * 1.04)\n",
        "\n",
        "emp_1 = Empleado(first=\"Ale\", last = \"Rojas\", pay = 12000)\n",
        "emp_2 = Empleado(first=\"Josephat\", last = \"nuñez\", pay = 55000)\n",
        "#vemos el pago, aplicamos el aumento y comparamos el resultado\n",
        "print(emp_1.pay)\n",
        "emp_1.aumentar_salario()\n",
        "print(emp_1.pay)\n"
      ],
      "metadata": {
        "colab": {
          "base_uri": "https://localhost:8080/"
        },
        "id": "Foes9EtSD__D",
        "outputId": "a2480415-714f-4273-d8a7-94d658ff9a49"
      },
      "execution_count": null,
      "outputs": [
        {
          "output_type": "stream",
          "name": "stdout",
          "text": [
            "12000\n",
            "12480\n"
          ]
        }
      ]
    },
    {
      "cell_type": "markdown",
      "source": [
        "A pesar de que funciona, se encuentra limitado, ya que no se puede actualizar ni modificar facilmente"
      ],
      "metadata": {
        "id": "EuNjXMIFE_No"
      }
    },
    {
      "cell_type": "code",
      "source": [
        "#podriamos tener un atributo como\n",
        "emp_1.monto_aumentado\n",
        "#o un atributo aplicado a toda la clase\n",
        "Employee.monto_aumentado\n",
        "#que tendriamos que hacer para actualizar el % de aumento facilmente?"
      ],
      "metadata": {
        "id": "ImkdzaQlFY5n"
      },
      "execution_count": null,
      "outputs": []
    },
    {
      "cell_type": "code",
      "source": [
        "#por lo que podemos crear una variable a nivel de clase para ello\n",
        "class Empleado:\n",
        "\n",
        "  monto_aumentado = 1.04\n",
        "\n",
        "  def __init__(self,first,last,pay):\n",
        "\n",
        "    self.first = first\n",
        "    self.last = last\n",
        "    self.pay = pay\n",
        "    self.email = first + \".\" + last + \"@company.com\"\n",
        "\n",
        "\n",
        "  def presentarse(self):#\n",
        "    return f\"Hola mi nombre es: {self.first} {self.last}\"\n",
        "\n",
        "  def aumentar_salario(self):\n",
        "    self.pay = int(self.pay * self.monto_aumentado)\n",
        "#cuando accedemos a una variable de clase\n",
        "# podemos hacerlo atraves de la instancia(self.monto_aumentado)\n",
        "# o de la clase con Empleado.monto_aumentado\n",
        "emp_1 = Empleado(first=\"Ale\", last = \"Rojas\", pay = 12000)\n",
        "emp_2 = Empleado(first=\"Josephat\", last = \"nuñez\", pay = 55000)\n",
        "\n",
        "print(emp_1.pay)\n",
        "emp_1.aumentar_salario()\n",
        "print(emp_1.pay)"
      ],
      "metadata": {
        "colab": {
          "base_uri": "https://localhost:8080/"
        },
        "id": "g34lL0kDJ_sT",
        "outputId": "05f6fde7-af7d-428a-80db-e6285d888265"
      },
      "execution_count": null,
      "outputs": [
        {
          "output_type": "stream",
          "name": "stdout",
          "text": [
            "12000\n",
            "12480\n"
          ]
        }
      ]
    },
    {
      "cell_type": "code",
      "source": [
        "#que pasa si cambio el valor del monto aumentado?\n",
        "\n",
        "print(Empleado.monto_aumentado)#a través de la clase\n",
        "print(emp_1.monto_aumentado)#a través de las instancias, acceden al atributo de la clase y lo hereadan de la clase\n",
        "print(emp_2.monto_aumentado)"
      ],
      "metadata": {
        "colab": {
          "base_uri": "https://localhost:8080/"
        },
        "id": "4xdPvE46K7iu",
        "outputId": "9f1b6aed-ed48-40be-e7fb-8353d051a0eb"
      },
      "execution_count": null,
      "outputs": [
        {
          "output_type": "stream",
          "name": "stdout",
          "text": [
            "1.04\n",
            "1.04\n",
            "1.04\n"
          ]
        }
      ]
    },
    {
      "cell_type": "code",
      "source": [
        "#accedemos a ver la clave valor de los atributos con __dict__\n",
        "#donde no existe el atributo monto_aumentado\n",
        "print(emp_1.__dict__)\n",
        "#a diferencia de la clase\n",
        "#salvo que la clase si tiene el atributo monto_aumentado, al cual se accede desde la instancia\n",
        "print(Empleado.__dict__)"
      ],
      "metadata": {
        "colab": {
          "base_uri": "https://localhost:8080/"
        },
        "id": "0IvwbbHNLjue",
        "outputId": "a40fcabf-f82f-4e56-a339-409336889b65"
      },
      "execution_count": null,
      "outputs": [
        {
          "output_type": "stream",
          "name": "stdout",
          "text": [
            "{'first': 'Ale', 'last': 'Rojas', 'pay': 12480, 'email': 'Ale.Rojas@company.com'}\n",
            "{'__module__': '__main__', 'monto_aumentado': 1.04, '__init__': <function Empleado.__init__ at 0x7ad9d681f760>, 'presentarse': <function Empleado.presentarse at 0x7ad9d681e5f0>, 'aumentar_salario': <function Empleado.aumentar_salario at 0x7ad9d681e4d0>, '__dict__': <attribute '__dict__' of 'Empleado' objects>, '__weakref__': <attribute '__weakref__' of 'Empleado' objects>, '__doc__': None}\n"
          ]
        }
      ]
    },
    {
      "cell_type": "code",
      "source": [
        "#cambiamos el valor del atributo de clase monto_aumentado\n",
        "print(emp_1.monto_aumentado)\n",
        "Empleado.monto_aumentado = 1.05\n",
        "#comprobamos los valores\n",
        "print(Empleado.monto_aumentado)\n",
        "print(emp_1.monto_aumentado)\n",
        "print(emp_2.monto_aumentado)\n",
        "#esto es logico, por que al cambiar el atributo de la clase, las instancias acceden a este valor modificado"
      ],
      "metadata": {
        "colab": {
          "base_uri": "https://localhost:8080/"
        },
        "id": "IfrvYswYME5k",
        "outputId": "39fa4d3f-af7a-43c2-a43e-7bed499b46ee"
      },
      "execution_count": null,
      "outputs": [
        {
          "output_type": "stream",
          "name": "stdout",
          "text": [
            "1.04\n",
            "1.05\n",
            "1.05\n",
            "1.05\n"
          ]
        }
      ]
    },
    {
      "cell_type": "code",
      "source": [
        "#si cambiamos el valor del monto_aumentado usando la instancia es diferente\n",
        "print(emp_1.monto_aumentado)\n",
        "emp_1.monto_aumentado = 1.06#copia/duplica el atributo(?) a la instancia y le asigna un nuevo valor\n",
        "print(emp_1.__dict__)#ahora si cuenta con el atributo monto_aumentado\n",
        "print(Empleado.monto_aumentado)\n",
        "print(emp_1.monto_aumentado)\n",
        "print(emp_2.monto_aumentado)\n",
        "print(emp_2.__dict__)#vemos que emp2 no cuenta con el atributo a diferencia de emp1\n",
        "\n",
        "## Todo esto sucede por que la instancia busca sus variables dentro de la instancia\n",
        "## si no las encuentra, las buscara en la clase\n",
        "## y posteriormente al resto de clases heredadas en orden de imputacion"
      ],
      "metadata": {
        "colab": {
          "base_uri": "https://localhost:8080/"
        },
        "id": "_WUuCKofMPRG",
        "outputId": "320dd1c1-e697-40e2-f64d-d66f63c92c64"
      },
      "execution_count": null,
      "outputs": [
        {
          "output_type": "stream",
          "name": "stdout",
          "text": [
            "1.06\n",
            "{'first': 'Ale', 'last': 'Rojas', 'pay': 12480, 'email': 'Ale.Rojas@company.com', 'monto_aumentado': 1.06}\n",
            "1.05\n",
            "1.06\n",
            "1.05\n",
            "{'first': 'Josephat', 'last': 'nuñez', 'pay': 55000, 'email': 'Josephat.nuñez@company.com'}\n"
          ]
        }
      ]
    },
    {
      "cell_type": "code",
      "source": [
        "class Empleado:\n",
        "\n",
        "  monto_aumentado = 1.04\n",
        "\n",
        "  def __init__(self,first,last,pay):\n",
        "\n",
        "    self.first = first\n",
        "    self.last = last\n",
        "    self.pay = pay\n",
        "    self.email = first + \".\" + last + \"@company.com\"\n",
        "\n",
        "\n",
        "  def presentarse(self):\n",
        "    return f\"Hola mi nombre es: {self.first} {self.last}\"\n",
        "\n",
        "  def aumentar_salario(self):\n",
        "    #declarar self.monto_aumentado nos da la habilidad de tomar el valor de la clase y poder\n",
        "    # modificarlo y guardarlo para la instancia si es necesario\n",
        "    self.pay = int(self.pay * self.monto_aumentado)"
      ],
      "metadata": {
        "id": "71ZQ3R-_NqLN"
      },
      "execution_count": null,
      "outputs": []
    },
    {
      "cell_type": "code",
      "source": [
        "print(emp_1.pay)\n",
        "emp_1.aumentar_salario()\n",
        "print(emp_1.pay)"
      ],
      "metadata": {
        "colab": {
          "base_uri": "https://localhost:8080/"
        },
        "id": "IKBx0MLeOAls",
        "outputId": "8f2126ac-5927-4d23-832a-b3397dda6e05"
      },
      "execution_count": null,
      "outputs": [
        {
          "output_type": "stream",
          "name": "stdout",
          "text": [
            "12480\n",
            "13228\n"
          ]
        }
      ]
    },
    {
      "cell_type": "code",
      "source": [
        "#creamos una nueva variable de clase para almacenar el numero de objetos instanciados3\n",
        "class Empleado:\n",
        "\n",
        "  #nuevo atributo de clase\n",
        "  num_empleados = 0\n",
        "  monto_aumentado = 1.04\n",
        "\n",
        "  def __init__(self,first,last,pay):\n",
        "\n",
        "    self.first = first\n",
        "    self.last = last\n",
        "    self.pay = pay\n",
        "    self.email = first + \".\" + last + \"@company.com\"\n",
        "    #agrego el contador en __init__ para que se ejecute cada vez que se instancia la clase\n",
        "    Empleado.num_empleados += 1\n",
        "\n",
        "  def presentarse(self):#\n",
        "    return f\"Hola mi nombre es: {self.first} {self.last}\"\n",
        "\n",
        "  def aumentar_salario(self):\n",
        "    self.pay = int(self.pay * self.monto_aumentado)\n",
        "\n",
        "emp_1 = Empleado(first=\"Ale\", last = \"Rojas\", pay = 12000) # contador incrementa a 1\n",
        "emp_2 = Empleado(first=\"Josephat\", last = \"nuñez\", pay = 55000) # contador incrementa a 2\n",
        "\n",
        "print(Empleado.num_empleados) #imprimira 2"
      ],
      "metadata": {
        "colab": {
          "base_uri": "https://localhost:8080/"
        },
        "id": "iuS9N1AtOr3D",
        "outputId": "2258f152-e446-466f-c375-544c9dd3ded3"
      },
      "execution_count": null,
      "outputs": [
        {
          "output_type": "stream",
          "name": "stdout",
          "text": [
            "2\n"
          ]
        }
      ]
    },
    {
      "cell_type": "markdown",
      "source": [
        "### TIPOS DE METODOS EN UNA CLASE\n",
        "\n",
        "\n",
        "\n",
        "1.   Metodos de clase\n",
        "2.   Static\n",
        "2.   Otro\n",
        "\n",
        "\n"
      ],
      "metadata": {
        "id": "F-Lx58zwQBLI"
      }
    },
    {
      "cell_type": "markdown",
      "source": [
        "#### Metodos de clase\n",
        "Metodos que se encuentran creados dentro de la clase, a la cual se puede acceder o no(?) mediante las instancias"
      ],
      "metadata": {
        "id": "oWxks5CrjswL"
      }
    },
    {
      "cell_type": "code",
      "source": [
        "#reminder: variables de clase son aquellas que se comparten entre todas las instancias de la clase\n",
        "\n",
        "#Caso especifico: nos solicitan poder ingresar nuevos empleados haciendo uso de un string\n",
        "#que tiene el formato nombre-apellido-salario , ej Ale-Rojas-10025\n",
        "\n",
        "emp_str_1= \"Ale-Rojas-10025\" #input de nuevo empleado\n",
        "#usamos el metodo split para dividir el str y lo asignamos a variables\n",
        "first, last, pay = emp_str_1.split('-')\n",
        "#creamos un nuevo objeto de clase Empleado usando las variables devueltas\n",
        "nuevo_emp_1 = Empleado(first, last, pay)\n",
        "print(nuevo_emp_1)\n",
        "print(nuevo_emp_1.__dict__)\n",
        "#se creo el nuevo empleado, pero necesitamos ejecutar esto dentro de una metodo\n",
        "# que se pueda reutilizar, el cual sera el metodo de clase"
      ],
      "metadata": {
        "colab": {
          "base_uri": "https://localhost:8080/"
        },
        "id": "QXWmrPIncMUp",
        "outputId": "e7530893-5c7c-4dad-f182-b043591c8bcf"
      },
      "execution_count": null,
      "outputs": [
        {
          "output_type": "stream",
          "name": "stdout",
          "text": [
            "<__main__.Empleado object at 0x7ad9c8d54820>\n",
            "{'first': 'Ale', 'last': 'Rojas', 'pay': '10025', 'email': 'Ale.Rojas@company.com'}\n"
          ]
        }
      ]
    },
    {
      "cell_type": "code",
      "source": [
        "#creamos el metodo de clase, agregando un decorador @classmethod antes de la funcion\n",
        "# y asignando el atributo cls(por convencion class) en vez de self\n",
        "class Empleado:\n",
        "\n",
        "  num_empleados = 0\n",
        "  monto_aumentado = 1.04\n",
        "\n",
        "  def __init__(self,first,last,pay):\n",
        "\n",
        "    self.first = first\n",
        "    self.last = last\n",
        "    self.pay = pay\n",
        "    self.email = first + \".\" + last + \"@company.com\"\n",
        "\n",
        "    Empleado.num_empleados += 1\n",
        "\n",
        "  def presentarse(self):\n",
        "    return f\"Hola mi nombre es: {self.first} {self.last}\"\n",
        "\n",
        "  def aumentar_salario(self):\n",
        "    self.pay = int(self.pay * self.monto_aumentado)\n",
        "  #1. Como crear un metodo de clase\n",
        "  @classmethod\n",
        "  def set_monto_aumentado(cls, amount):\n",
        "    cls.monto_aumentado = amount\n",
        "  #2. ahora creamos un constructor alternativo que nos permita ingresar los valores\n",
        "  #con guiones como propone el ejemplo\n",
        "  @classmethod\n",
        "  def from_string(cls,emp_str):\n",
        "    first, last, pay = emp_str.split('-')\n",
        "    #retornamos el objetvo de clase usando las variables obtenidas como atributos\n",
        "    return cls(first, last, pay)\n",
        "\n",
        "emp_1 = Empleado(first=\"Ale\", last = \"Rojas\", pay = 12000)\n",
        "emp_2 = Empleado(first=\"Josephat\", last = \"nuñez\", pay = 55000)\n",
        "\n",
        "print(Empleado.monto_aumentado)\n",
        "print(emp_1.monto_aumentado)\n",
        "print(emp_2.monto_aumentado)\n",
        "# 1. usando el metodo de clase\n",
        "Empleado.set_monto_aumentado(1.05)\n",
        "\n",
        "print(Empleado.monto_aumentado)\n",
        "print(emp_1.monto_aumentado)\n",
        "print(emp_2.monto_aumentado)\n",
        "\n",
        "#2. Usamos el constructor alternativo para tomar el objeto de clase retornado\n",
        "# y asignarlo a una nueva variable\n",
        "emp_str_1= \"Ale-Rojas-10025\"\n",
        "\n",
        "nuevo_emp_1 = Empleado.from_string(emp_str_1)\n",
        "print(nuevo_emp_1.pay)"
      ],
      "metadata": {
        "colab": {
          "base_uri": "https://localhost:8080/"
        },
        "id": "bmsLN7_yQLWF",
        "outputId": "60af7a9d-4415-4001-b94d-04bea10103d6"
      },
      "execution_count": null,
      "outputs": [
        {
          "output_type": "stream",
          "name": "stdout",
          "text": [
            "1.04\n",
            "1.04\n",
            "1.04\n",
            "1.05\n",
            "1.05\n",
            "1.05\n",
            "10025\n"
          ]
        }
      ]
    },
    {
      "cell_type": "markdown",
      "source": [
        "#### Static methods\n",
        "Son metodos identicos a una funcion regular a las que no se les referencia ninguna argumento, como self o cls, pero se mantienen dentro de la clase por que guardan una relacion logica con esta"
      ],
      "metadata": {
        "id": "OmrMVstEkCjS"
      }
    },
    {
      "cell_type": "code",
      "source": [
        "#Queremos añadir una funcion simple que reciba una fecha y retorne si es o no un dia laborable\n",
        "#esta funcion tienene una conexion logica con la clase Empleado\n",
        "#pero no depende de ninguna instancia o variable de clase\n",
        "class Empleado:\n",
        "\n",
        "  num_empleados = 0\n",
        "  monto_aumentado = 1.04\n",
        "\n",
        "  def __init__(self,first,last,pay):\n",
        "\n",
        "    self.first = first\n",
        "    self.last = last\n",
        "    self.pay = pay\n",
        "    self.email = first + \".\" + last + \"@company.com\"\n",
        "\n",
        "    Empleado.num_empleados += 1\n",
        "\n",
        "  def presentarse(self):\n",
        "    return f\"Hola mi nombre es: {self.first} {self.last}\"\n",
        "\n",
        "  def aumentar_salario(self):\n",
        "    self.pay = int(self.pay * self.monto_aumentado)\n",
        "\n",
        "  @classmethod\n",
        "  def set_monto_aumentado(cls, amount):\n",
        "    cls.monto_aumentado = amount\n",
        "\n",
        "  @classmethod\n",
        "  def from_string(cls,emp_str):\n",
        "    first, last, pay = emp_str.split('-')\n",
        "    return cls(first, last, pay)\n",
        "\n",
        "  #haremos un metodo statico para la funcion requerida\n",
        "  @staticmethod\n",
        "  def dia_lab(day):\n",
        "    if day.weekday() == 5 or day.weekday() == 6:\n",
        "      return False\n",
        "    return True\n",
        "\n",
        "emp_1 = Empleado(\"Ale\", \"Rojas\",12000)\n",
        "emp_2 = Empleado(\"Josephat\", \"nuñez\", 55000)\n",
        "\n",
        "import datetime\n",
        "mi_fecha = datetime.date(2024,4,5)\n",
        "print(mi_fecha)\n",
        "print(Empleado.dia_lab(mi_fecha))"
      ],
      "metadata": {
        "colab": {
          "base_uri": "https://localhost:8080/"
        },
        "id": "wRGM6oGFfOyK",
        "outputId": "c577ee2e-4b61-4f96-a53e-e43c91bfe3e8"
      },
      "execution_count": null,
      "outputs": [
        {
          "output_type": "stream",
          "name": "stdout",
          "text": [
            "2024-04-05\n",
            "True\n"
          ]
        }
      ]
    },
    {
      "cell_type": "markdown",
      "source": [
        "### Inheritance - Creating Subclasses\n",
        "\n",
        "Heredar todas las funcionalidades de una clase en otra"
      ],
      "metadata": {
        "id": "_gnqFiD2HtFZ"
      }
    },
    {
      "cell_type": "code",
      "source": [
        "#Creamos una sub clase (dev) que heredara de la clase Empleado\n",
        "class Empleado:\n",
        "\n",
        "  monto_aumentado = 1.04\n",
        "\n",
        "  def __init__(self,first,last,pay):\n",
        "\n",
        "    self.first = first\n",
        "    self.last = last\n",
        "    self.pay = pay\n",
        "    self.email = first + \".\" + last + \"@company.com\"\n",
        "\n",
        "  def presentarse(self):\n",
        "    return f\"Hola mi nombre es: {self.first} {self.last}\"\n",
        "\n",
        "  def aumentar_salario(self):\n",
        "    self.pay = int(self.pay * self.monto_aumentado)\n",
        "#se añaden parentesis a la clase y se añade la clase padre\n",
        "class Developer(Empleado):\n",
        "  pass\n",
        "#Se crean objetos Developer, y este hereda sus funciones y metodos\n",
        "dev_1 = Developer(\"Ale\", \"Rojas\",12000)\n",
        "dev_2 = Developer(\"Josephat\", \"nuñez\", 55000)\n",
        "#podemos hacer uso de todas las funcionalidades de la clase padre\n",
        "print(dev_1.email)\n",
        "print(dev_1.first)\n",
        "print(dev_1.pay)\n",
        "dev_1.aumentar_salario()\n",
        "print(dev_1.pay)"
      ],
      "metadata": {
        "colab": {
          "base_uri": "https://localhost:8080/"
        },
        "id": "p36_TYeVK11P",
        "outputId": "5a359ecb-2c3b-45a4-befa-1621a9ea7067"
      },
      "execution_count": null,
      "outputs": [
        {
          "output_type": "stream",
          "name": "stdout",
          "text": [
            "Ale.Rojas@company.com\n",
            "Ale\n",
            "12000\n",
            "12480\n"
          ]
        }
      ]
    },
    {
      "cell_type": "code",
      "source": [
        "#method resolution order es la jerarquia para la herencia\n",
        "help(Developer)"
      ],
      "metadata": {
        "colab": {
          "base_uri": "https://localhost:8080/"
        },
        "id": "xffS-LEvLLz3",
        "outputId": "511c53e4-5b87-40c1-d449-957068b25783"
      },
      "execution_count": null,
      "outputs": [
        {
          "output_type": "stream",
          "name": "stdout",
          "text": [
            "Help on class Developer in module __main__:\n",
            "\n",
            "class Developer(Empleado)\n",
            " |  Developer(first, last, pay)\n",
            " |  \n",
            " |  Method resolution order:\n",
            " |      Developer\n",
            " |      Empleado\n",
            " |      builtins.object\n",
            " |  \n",
            " |  Methods inherited from Empleado:\n",
            " |  \n",
            " |  __init__(self, first, last, pay)\n",
            " |      Initialize self.  See help(type(self)) for accurate signature.\n",
            " |  \n",
            " |  aumentar_salario(self)\n",
            " |  \n",
            " |  presentarse(self)\n",
            " |  \n",
            " |  ----------------------------------------------------------------------\n",
            " |  Data descriptors inherited from Empleado:\n",
            " |  \n",
            " |  __dict__\n",
            " |      dictionary for instance variables (if defined)\n",
            " |  \n",
            " |  __weakref__\n",
            " |      list of weak references to the object (if defined)\n",
            " |  \n",
            " |  ----------------------------------------------------------------------\n",
            " |  Data and other attributes inherited from Empleado:\n",
            " |  \n",
            " |  monto_aumentado = 1.04\n",
            "\n"
          ]
        }
      ]
    },
    {
      "cell_type": "code",
      "source": [
        "class Empleado:\n",
        "\n",
        "  monto_aumentado = 1.04\n",
        "\n",
        "  def __init__(self,first,last,pay):\n",
        "\n",
        "    self.first = first\n",
        "    self.last = last\n",
        "    self.pay = pay\n",
        "    self.email = first + \".\" + last + \"@company.com\"\n",
        "\n",
        "  def presentarse(self):\n",
        "    return f\"Hola mi nombre es: {self.first} {self.last}\"\n",
        "\n",
        "  def aumentar_salario(self):\n",
        "    self.pay = int(self.pay * self.monto_aumentado)\n",
        "\n",
        "#si queremos añadir un atributo unico de la clase developer (lenguaje de programacion)\n",
        "class Developer(Empleado):\n",
        "  #para que pueda modificarse a si misma necesita iniciarse, por lo que llamamos __init__\n",
        "  #tendriamos que referenciar cada atributo de la clase nuevamente\n",
        "  #lo cual es repetitivo, por lo que se necesita usar la herencia aqui tambien\n",
        "  def __init__(self,first,last,pay, prog_lang):\n",
        "    self.first = first\n",
        "    self.last = last\n",
        "    self.pay = pay\n",
        "    self.email = first + \".\" + last + \"@company.com\"\n",
        "    prog_lang = \"Pyrhon\"\n",
        "\n",
        "dev_1 = Developer(\"Ale\", \"Rojas\",12000)\n",
        "dev_2 = Developer(\"Josephat\", \"nuñez\", 55000)\n",
        "\n",
        "print(dev_1.email)\n",
        "print(dev_1.first)"
      ],
      "metadata": {
        "id": "HWnJS4zWN3V4"
      },
      "execution_count": null,
      "outputs": []
    },
    {
      "cell_type": "code",
      "source": [
        "#agregar atributos nuevos a una subclase con herencia\n",
        "class Empleado:\n",
        "\n",
        "  monto_aumentado = 1.04\n",
        "\n",
        "  def __init__(self,first,last,pay):\n",
        "\n",
        "    self.first = first\n",
        "    self.last = last\n",
        "    self.pay = pay\n",
        "    self.email = first + \".\" + last + \"@company.com\"\n",
        "\n",
        "  def presentarse(self):\n",
        "    return f\"Hola mi nombre es: {self.first} {self.last}\"\n",
        "\n",
        "  def aumentar_salario(self):\n",
        "    self.pay = int(self.pay * self.monto_aumentado)\n",
        "\n",
        "class Developer(Empleado):\n",
        "    #iniciamos la clase Developer con __init__ para poder asignarle su atributo unico\n",
        "    #ahora que esta iniciada es necesario decirle que otros atributos necesitamos\n",
        "  def __init__(self,first,last,pay, prog_lang):\n",
        "    #iniciamos a la clase padre y heredamos sus atributos\n",
        "    super().__init__(first,last,pay)#super llama a la clase padre inmediata\n",
        "  # Employee.__init__(self,first,last,pay) podria usarse cuando se heredan varias clases y hay que seleccionar una\n",
        "    self.prog_lang = prog_lang\n",
        "\n",
        "#ahora se puede crear un objeto developer y asignar atributos de la clase Employee y la clase Developer\n",
        "dev_1 = Developer(\"Ale\", \"Rojas\",12000,\"Python\")\n",
        "dev_2 = Developer(\"Josephat\", \"nuñez\", 55000,\"java\")\n",
        "\n",
        "print(dev_1.email)\n",
        "print(dev_1.prog_lang)"
      ],
      "metadata": {
        "colab": {
          "base_uri": "https://localhost:8080/"
        },
        "id": "dYR2QVHPPT7k",
        "outputId": "bccb9352-8cc1-4406-873d-7f7cbcc578b2"
      },
      "execution_count": null,
      "outputs": [
        {
          "output_type": "stream",
          "name": "stdout",
          "text": [
            "Ale.Rojas@company.com\n",
            "Python\n"
          ]
        }
      ]
    },
    {
      "cell_type": "code",
      "source": [
        "#Creamos una nueva subclase Manager\n",
        "#Requerimientos: El manager tiene un numero x de personas a cargo\n",
        "class Empleado:\n",
        "\n",
        "  monto_aumentado = 1.04\n",
        "\n",
        "  def __init__(self,first,last,pay):\n",
        "\n",
        "    self.first = first\n",
        "    self.last = last\n",
        "    self.pay = pay\n",
        "    self.email = first + \".\" + last + \"@company.com\"\n",
        "\n",
        "  def presentarse(self):\n",
        "    return f\"Hola mi nombre es: {self.first} {self.last}\"\n",
        "\n",
        "  def aumentar_salario(self):\n",
        "    self.pay = int(self.pay * self.monto_aumentado)\n",
        "\n",
        "class Developer(Empleado):\n",
        "  def __init__(self,first,last,pay, prog_lang):\n",
        "    super().__init__(first,last,pay)\n",
        "    self.prog_lang = prog_lang\n",
        "\n",
        "class Manager(Empleado):\n",
        "\n",
        "  def __init__(self,first,last,pay, a_cargo = None):\n",
        "    super().__init__(first,last,pay)\n",
        "    if a_cargo is None :#si no se ingresa el parametro a_cargo sera una lista vacia\n",
        "      self.a_cargo = []\n",
        "    else:#si se ingresa un parametro a_cargo, se le asignara ese valor al atributo\n",
        "      self.a_cargo = a_cargo\n",
        "\n",
        "  #agregamos funciones que añadan , borren e impriman todos los nombres a_cargo del manager\n",
        "  def agregar_emp(self,emp):\n",
        "    if emp not in self.a_cargo:\n",
        "      self.a_cargo.append(emp)\n",
        "\n",
        "  def borrar_emp(self,emp):\n",
        "    if emp in self.a_cargo:\n",
        "      self.a_cargo.remove(emp)\n",
        "#Por que al iterar sobre los valores de a_cargo, no puedo hacer uso de la funcion presentarse heredada de empelado??\n",
        "  def presentacion_todos(self):\n",
        "    for i in self.a_cargo:\n",
        "      print(i.presentarse())\n",
        "\n",
        "#creamos un manager sin personas a cargo y agregamos una nueva\n",
        "mgr_1 = Manager(\"Alex\", \"Red\", 120000)\n",
        "mgr_1.a_cargo\n",
        "\n",
        "print(mgr_1.a_cargo)\n",
        "\n",
        "mgr_1.agregar_emp(\"Manuel\")\n",
        "\n",
        "print(mgr_1.a_cargo)\n",
        "##creamos un manager con personas a cargo y agregamos una nueva\n",
        "mgr_2 = Manager(\"Alex\", \"Red\", 120000, [\"Jos\"])#el parametro a_cargo recibe Any\n",
        "#por lo que es necesario asignarle una lista, caso contrario no se puede hacer append\n",
        "mgr_2.a_cargo\n",
        "\n",
        "print(mgr_2.a_cargo)\n",
        "\n",
        "mgr_2.agregar_emp(\"Vale\")\n",
        "\n",
        "print(mgr_2.a_cargo)\n",
        "mgr_2.presentacion_todos()\n"
      ],
      "metadata": {
        "colab": {
          "base_uri": "https://localhost:8080/",
          "height": 367
        },
        "id": "ZgkW8UdCQ1lB",
        "outputId": "d97bc149-07f6-45b4-e011-68f826d1ec8c"
      },
      "execution_count": null,
      "outputs": [
        {
          "output_type": "stream",
          "name": "stdout",
          "text": [
            "[]\n",
            "['Manuel']\n",
            "['Jos']\n",
            "['Jos', 'Vale']\n"
          ]
        },
        {
          "output_type": "error",
          "ename": "AttributeError",
          "evalue": "'str' object has no attribute 'presentarse'",
          "traceback": [
            "\u001b[0;31m---------------------------------------------------------------------------\u001b[0m",
            "\u001b[0;31mAttributeError\u001b[0m                            Traceback (most recent call last)",
            "\u001b[0;32m<ipython-input-34-76a48954bfb9>\u001b[0m in \u001b[0;36m<cell line: 66>\u001b[0;34m()\u001b[0m\n\u001b[1;32m     64\u001b[0m \u001b[0;34m\u001b[0m\u001b[0m\n\u001b[1;32m     65\u001b[0m \u001b[0mprint\u001b[0m\u001b[0;34m(\u001b[0m\u001b[0mmgr_2\u001b[0m\u001b[0;34m.\u001b[0m\u001b[0ma_cargo\u001b[0m\u001b[0;34m)\u001b[0m\u001b[0;34m\u001b[0m\u001b[0;34m\u001b[0m\u001b[0m\n\u001b[0;32m---> 66\u001b[0;31m \u001b[0mmgr_2\u001b[0m\u001b[0;34m.\u001b[0m\u001b[0mpresentacion_todos\u001b[0m\u001b[0;34m(\u001b[0m\u001b[0;34m)\u001b[0m\u001b[0;34m\u001b[0m\u001b[0;34m\u001b[0m\u001b[0m\n\u001b[0m",
            "\u001b[0;32m<ipython-input-34-76a48954bfb9>\u001b[0m in \u001b[0;36mpresentacion_todos\u001b[0;34m(self)\u001b[0m\n\u001b[1;32m     43\u001b[0m   \u001b[0;32mdef\u001b[0m \u001b[0mpresentacion_todos\u001b[0m\u001b[0;34m(\u001b[0m\u001b[0mself\u001b[0m\u001b[0;34m)\u001b[0m\u001b[0;34m:\u001b[0m\u001b[0;34m\u001b[0m\u001b[0;34m\u001b[0m\u001b[0m\n\u001b[1;32m     44\u001b[0m     \u001b[0;32mfor\u001b[0m \u001b[0mi\u001b[0m \u001b[0;32min\u001b[0m \u001b[0mself\u001b[0m\u001b[0;34m.\u001b[0m\u001b[0ma_cargo\u001b[0m\u001b[0;34m:\u001b[0m\u001b[0;34m\u001b[0m\u001b[0;34m\u001b[0m\u001b[0m\n\u001b[0;32m---> 45\u001b[0;31m       \u001b[0mprint\u001b[0m\u001b[0;34m(\u001b[0m\u001b[0mi\u001b[0m\u001b[0;34m.\u001b[0m\u001b[0mpresentarse\u001b[0m\u001b[0;34m(\u001b[0m\u001b[0;34m)\u001b[0m\u001b[0;34m)\u001b[0m\u001b[0;34m\u001b[0m\u001b[0;34m\u001b[0m\u001b[0m\n\u001b[0m\u001b[1;32m     46\u001b[0m \u001b[0;34m\u001b[0m\u001b[0m\n\u001b[1;32m     47\u001b[0m \u001b[0;31m#creamos un manager sin personas a cargo y agregamos una nueva\u001b[0m\u001b[0;34m\u001b[0m\u001b[0;34m\u001b[0m\u001b[0m\n",
            "\u001b[0;31mAttributeError\u001b[0m: 'str' object has no attribute 'presentarse'"
          ]
        }
      ]
    },
    {
      "cell_type": "markdown",
      "source": [
        "# Bootcamp"
      ],
      "metadata": {
        "id": "MgC0rexky-Ul"
      }
    },
    {
      "cell_type": "code",
      "source": [
        "# prompt: Enunciado: Tienes una lista de números del 1 al 10. Tu tarea es:\n",
        "# - Añadir el número 11 al final de la lista.\n",
        "# - Eliminar el número 5 de la lista.\n",
        "# - Acceder al primer y último elemento de la lista y guardarlos en variables.\n",
        "# - Crear una nueva lista que contenga los elementos del índice 2 al índice 5 de la lista original.\n",
        "# - Imprimir todas las listas y variables que has creado.\n",
        "\n",
        "# Create a list of numbers from 1 to 10\n",
        "numbers = list(range(1, 11))\n",
        "\n",
        "# Add the number 11 to the end of the list\n",
        "numbers.append(11)\n",
        "\n",
        "# Remove the number 5 from the list\n",
        "numbers.remove(5)\n",
        "\n",
        "# Access the first and last elements of the list and store them in variables\n",
        "first_element = numbers[0]\n",
        "last_element = numbers[-1]\n",
        "\n",
        "# Create a new list containing the elements from index 2 to index 5 of the original list\n",
        "new_list = numbers[2:6]\n",
        "\n",
        "# Print all the lists and variables\n",
        "print(\"Original list:\", numbers)\n",
        "print(\"First element:\", first_element)\n",
        "print(\"Last element:\", last_element)\n",
        "print(\"New list:\", new_list)\n"
      ],
      "metadata": {
        "id": "6vYbCUUZvLHY"
      },
      "execution_count": null,
      "outputs": []
    },
    {
      "cell_type": "code",
      "source": [
        "#crear una lista\n",
        "numeros = list(range(1,11))\n",
        "print(numeros)\n",
        "#elimina el numero 5\n",
        "numeros.remove(5)\n",
        "print(numeros)\n",
        "#Acceder al primer y último elemento de la lista y guardarlos en variables.\n",
        "primer_numero = numeros[0]\n",
        "ultimo_numero = numeros[-1]\n",
        "print(primer_numero)\n",
        "print(ultimo_numero)\n",
        "#Crear una nueva lista que contenga los elementos del índice 2 al índice 5 de la lista original.\n",
        "nueva_lista = numeros[2:6]\n",
        "print(nueva_lista)"
      ],
      "metadata": {
        "colab": {
          "base_uri": "https://localhost:8080/"
        },
        "id": "HjcKVikOv38s",
        "outputId": "2ca7c109-8360-4eba-a7e2-f235293c883c"
      },
      "execution_count": null,
      "outputs": [
        {
          "output_type": "stream",
          "name": "stdout",
          "text": [
            "[1, 2, 3, 4, 5, 6, 7, 8, 9, 10]\n",
            "[1, 2, 3, 4, 6, 7, 8, 9, 10]\n",
            "1\n",
            "10\n",
            "[3, 4, 6, 7]\n"
          ]
        }
      ]
    },
    {
      "cell_type": "code",
      "source": [
        "# prompt: Tienes una publa con los dias de la semana.\n",
        "# Accede y guardar en una variable el primer dia y el ultimo dia de la semana en la tupla, crea una nueva tupla que contenga solo los dias laborables, cuenta cuentos dias laborables hay en la nueva tupla, imprime todas las tuplas y variables que has creado\n",
        "\n",
        "# Crear una tupla con los días de la semana\n",
        "dias_semana = (\"Lunes\", \"Martes\", \"Miércoles\", \"Jueves\", \"Viernes\", \"Sábado\", \"Domingo\")\n",
        "\n",
        "# Acceder al primer y último día de la semana y guardarlos en variables\n",
        "primer_dia = dias_semana[0]\n",
        "ultimo_dia = dias_semana[-1]\n",
        "\n",
        "# Crear una nueva tupla que contenga solo los días laborables\n",
        "dias_laborables = dias_semana[:5]\n",
        "\n",
        "# Contar cuántos días laborables hay en la nueva tupla\n",
        "num_dias_laborables = len(dias_laborables)\n",
        "\n",
        "# Imprimir todas las tuplas y variables que has creado\n",
        "print(\"Tupla original:\", dias_semana)\n",
        "print(\"Primer día:\", primer_dia)\n",
        "print(\"Último día:\", ultimo_dia)\n",
        "print(\"Tupla de días laborables:\", dias_laborables)\n",
        "print(\"Número de días laborables:\", num_dias_laborables)\n"
      ],
      "metadata": {
        "id": "_SbrKs-j1yRH"
      },
      "execution_count": null,
      "outputs": []
    },
    {
      "cell_type": "code",
      "source": [
        "#Crea una tupla\n",
        "dias_semana = (\"Lunes\", \"Martes\", \"Miércoles\", \"Jueves\", \"Viernes\", \"Sábado\", \"Domingo\")\n",
        "print(dias_semana)\n",
        "# accede al primer y ultima dia y asignalos a una variable\n",
        "primer_dia = dias_semana[0]\n",
        "ultimo_dia = dias_semana[-1]\n",
        "print(primer_dia)\n",
        "print(ultimo_dia)\n",
        "#crear una nueva tupla que solo tenga los dias laborables\n",
        "nueva_tupla = dias_semana[:5]\n",
        "print(nueva_tupla)\n",
        "#contar cuantos dias laborables hay en la nueva tupla\n",
        "num_dias_laborables = len(dias_laborables)\n",
        "print(num_dias_laborables)"
      ],
      "metadata": {
        "colab": {
          "base_uri": "https://localhost:8080/"
        },
        "id": "csOxLa8_2TOO",
        "outputId": "2844bb86-1dc6-4661-e9db-66351b11f00d"
      },
      "execution_count": null,
      "outputs": [
        {
          "output_type": "stream",
          "name": "stdout",
          "text": [
            "('Lunes', 'Martes', 'Miércoles', 'Jueves', 'Viernes', 'Sábado', 'Domingo')\n",
            "Lunes\n",
            "Domingo\n",
            "('Lunes', 'Martes', 'Miércoles', 'Jueves', 'Viernes')\n",
            "5\n"
          ]
        }
      ]
    },
    {
      "cell_type": "code",
      "source": [],
      "metadata": {
        "id": "S112dUnO2eNZ"
      },
      "execution_count": null,
      "outputs": []
    }
  ]
}